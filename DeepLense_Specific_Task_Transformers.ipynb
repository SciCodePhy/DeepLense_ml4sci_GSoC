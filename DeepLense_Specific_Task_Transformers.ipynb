{
  "nbformat": 4,
  "nbformat_minor": 0,
  "metadata": {
    "colab": {
      "provenance": []
    },
    "kernelspec": {
      "name": "python3",
      "display_name": "Python 3"
    },
    "language_info": {
      "name": "python"
    },
    "accelerator": "GPU",
    "gpuClass": "premium"
  },
  "cells": [
    {
      "cell_type": "markdown",
      "source": [
        "# Specific Task (DeepLense): Exploring Transformers\n",
        "### Chenguang Guan"
      ],
      "metadata": {
        "id": "VC_qp5On_ZdK"
      }
    },
    {
      "cell_type": "markdown",
      "metadata": {
        "id": "N93Z76ptOee7"
      },
      "source": [
        "## Workflow of ViT"
      ]
    },
    {
      "cell_type": "markdown",
      "metadata": {
        "id": "h7T85_w8OrVn"
      },
      "source": [
        "In the original Transformer for NLP, there are both attention-based encoders and decoders.\n",
        "\n",
        "However, there is only attention-based encoder in ViT. The ViT introduces patch embedding to transform 2D image-patches to flatten embedding vectors (\"Images to Words\"), while they also develop some other positional embedding including 2-D/relative/learnable embedding beyond the 1-D positional embedding in NLP Transformer. Finally, they borrows the idea of class token from $\\textbf{BERT}$ to classify the images."
      ]
    },
    {
      "cell_type": "markdown",
      "metadata": {
        "id": "sHiVco-vObRY"
      },
      "source": [
        "1. Patch Embedding: $\\mathbf{x} \\in \\mathbb{R}^{H \\times W \\times C}\\rightarrow\\mathbf{x}_p \\in \\mathbb{R}^{N \\times\\left(P^2 \\cdot C\\right)}$\n",
        "\n",
        "2. Class Token: Borrow from the BERT model.\n",
        "\n",
        "3. Position Embeidding: learnable 1D postion embeddings, 2D postion embeddings, etc.\n",
        "\n",
        "4. Incorporating position information in the model: Add before feeding into the transformer encoder; Add before each encoder block; Add before each encoder block (shared weights).\n",
        "\n",
        "5. Transformer Encoder Block: same as NLP transformer.\n",
        "MLP for the class token"
      ]
    },
    {
      "cell_type": "markdown",
      "metadata": {
        "id": "HZmFQuszO-jK"
      },
      "source": [
        "## Workflow of Swin Transformer"
      ]
    },
    {
      "cell_type": "markdown",
      "metadata": {
        "id": "riJm7DomO_o7"
      },
      "source": [
        "The differences between original ViT and Swin Transformer are their attetion mechanism. The attention mechanism of Swin Transformer is hierarchical attention.\n",
        "\n",
        "With the coarse graining going on, the size of each patch is getting larger (similar with Renormalization Group in Physics).\n",
        "\n",
        "$\\left(H_{\\text{Patch}}, W_{\\text{Patch}}\\right)\\rightarrow \\left(2H_{\\text{Patch}}, 2W_{\\text{Patch}}\\right)\\rightarrow \\left(4H_{\\text{Patch}}, 4W_{\\text{Patch}}\\right)\\rightarrow ...$"
      ]
    },
    {
      "cell_type": "markdown",
      "source": [
        "## I. Preparation"
      ],
      "metadata": {
        "id": "BWWt0KtXMNrp"
      }
    },
    {
      "cell_type": "code",
      "execution_count": 1,
      "metadata": {
        "colab": {
          "base_uri": "https://localhost:8080/"
        },
        "id": "2qCOx1BXGUhV",
        "outputId": "dce1235c-a825-45ca-f037-2a94addd7756"
      },
      "outputs": [
        {
          "output_type": "stream",
          "name": "stdout",
          "text": [
            "Mounted at /content/gdrive\n"
          ]
        }
      ],
      "source": [
        "from google.colab import drive\n",
        "drive.mount(\"/content/gdrive\", force_remount=True)"
      ]
    },
    {
      "cell_type": "code",
      "source": [
        "!tar -xzvf /content/gdrive/MyDrive/lenses.tgz "
      ],
      "metadata": {
        "id": "9n0OxKEXKd4X"
      },
      "execution_count": null,
      "outputs": []
    },
    {
      "cell_type": "code",
      "source": [
        "import numpy as np\n",
        "import glob\n",
        "import os\n",
        "\n",
        "import torch\n",
        "from torch.utils.data import Dataset, DataLoader\n",
        "\n",
        "import torchvision\n",
        "import torch.nn as nn\n",
        "import torch.nn.functional as F\n",
        "import torch.optim as optim\n",
        "\n",
        "import torchvision.transforms as transforms\n",
        "\n",
        "import random\n",
        "import time\n",
        "\n",
        "\n",
        "from sklearn import metrics\n",
        "\n",
        "import matplotlib.pyplot as plt\n",
        "\n",
        "from PIL import Image"
      ],
      "metadata": {
        "id": "7_Y3Gf4KK-yL"
      },
      "execution_count": 3,
      "outputs": []
    },
    {
      "cell_type": "code",
      "source": [
        "device=torch.device('cuda' if torch.cuda.is_available() else 'cpu')\n",
        "print(\"Device is:\", device)"
      ],
      "metadata": {
        "colab": {
          "base_uri": "https://localhost:8080/"
        },
        "id": "Uq4Y-UNAMVbS",
        "outputId": "f495caa9-52ad-4512-8135-1eee535a64f5"
      },
      "execution_count": 4,
      "outputs": [
        {
          "output_type": "stream",
          "name": "stdout",
          "text": [
            "Device is: cuda\n"
          ]
        }
      ]
    },
    {
      "cell_type": "markdown",
      "source": [
        "## II. Dataset"
      ],
      "metadata": {
        "id": "0PF-R1VjMmvR"
      }
    },
    {
      "cell_type": "code",
      "source": [
        "dataset_path = '/content/lenses'"
      ],
      "metadata": {
        "id": "WGOwmXf4MHwI"
      },
      "execution_count": 5,
      "outputs": []
    },
    {
      "cell_type": "code",
      "source": [
        "def dataset_path_list(dataset_dir):\n",
        "    path_list = list()\n",
        "    for dataset_class in [\"no_sub\", \"sub\"]:\n",
        "        subdir = os.path.join(dataset_dir, dataset_class) + \"/\"\n",
        "        path_list += list(glob.glob(subdir + \"*.jpg\") )\n",
        "    return path_list"
      ],
      "metadata": {
        "id": "fN_TBE83KLBn"
      },
      "execution_count": 45,
      "outputs": []
    },
    {
      "cell_type": "code",
      "source": [
        "def dataset_list(dataset_dir):\n",
        "    data_list = list()\n",
        "    for each_path in dataset_path_list(dataset_dir):\n",
        "        data_list.append( np.expand_dims( np.array( Image.open( each_path ) ).astype(np.float32) / 255, axis=0 ) )\n",
        "    return data_list"
      ],
      "metadata": {
        "id": "OKTLTLRPRrR5"
      },
      "execution_count": 46,
      "outputs": []
    },
    {
      "cell_type": "code",
      "source": [
        "X_list = dataset_list( dataset_path )\n",
        "y_list = [0] * 5000 + [1] * 5000"
      ],
      "metadata": {
        "id": "aIkcEGgMNNgg"
      },
      "execution_count": 47,
      "outputs": []
    },
    {
      "cell_type": "code",
      "source": [
        "plt.imshow(X_list[5000][0])\n",
        "plt.show()"
      ],
      "metadata": {
        "colab": {
          "base_uri": "https://localhost:8080/",
          "height": 434
        },
        "id": "1dRLLWxSnGmj",
        "outputId": "d2063800-f9a2-4d02-8c93-369e2066a505"
      },
      "execution_count": 63,
      "outputs": [
        {
          "output_type": "display_data",
          "data": {
            "text/plain": [
              "<Figure size 640x480 with 1 Axes>"
            ],
            "image/png": "[encoded data removed]"
          },
          "metadata": {}
        }
      ]
    },
    {
      "cell_type": "code",
      "source": [
        "y_list[5000]"
      ],
      "metadata": {
        "colab": {
          "base_uri": "https://localhost:8080/"
        },
        "id": "oceEQw1Ynoef",
        "outputId": "8a2cf96a-1bd0-45e6-9568-60ac28663329"
      },
      "execution_count": 62,
      "outputs": [
        {
          "output_type": "execute_result",
          "data": {
            "text/plain": [
              "1"
            ]
          },
          "metadata": {},
          "execution_count": 62
        }
      ]
    },
    {
      "cell_type": "code",
      "source": [
        "X_list = np.tile(X_list, (1, 3, 1, 1))"
      ],
      "metadata": {
        "id": "jeEaeV34e8Od"
      },
      "execution_count": 69,
      "outputs": []
    },
    {
      "cell_type": "code",
      "source": [
        "X_list = np.array(X_list)\n",
        "y_list = np.array(y_list)"
      ],
      "metadata": {
        "id": "AVb3lilkfeV9"
      },
      "execution_count": 70,
      "outputs": []
    },
    {
      "cell_type": "code",
      "source": [
        "shuffle_list = np.arange(0, 10000, 1)\n",
        "random.shuffle( shuffle_list )"
      ],
      "metadata": {
        "id": "wvhunxywO2qt"
      },
      "execution_count": 71,
      "outputs": []
    },
    {
      "cell_type": "code",
      "source": [
        "X_list = X_list[shuffle_list]\n",
        "y_list = y_list[shuffle_list]"
      ],
      "metadata": {
        "id": "UPgXfQMffAyZ"
      },
      "execution_count": 72,
      "outputs": []
    },
    {
      "cell_type": "code",
      "source": [
        "class MyDataset(Dataset):\n",
        "    def __init__(self, train = True, transform = None, target_transform = None):\n",
        "        global X_list, y_list\n",
        "        self.train = train\n",
        "        self.transform = transform\n",
        "        self.target_transform = target_transform\n",
        "\n",
        "    def __len__(self):\n",
        "        if self.train:\n",
        "            return 9000\n",
        "        else:\n",
        "            return 1000\n",
        "    \n",
        "    def __getitem__(self,idx):\n",
        "        if self.train:\n",
        "            image, label = torch.from_numpy( X_list[idx] ), y_list[idx]\n",
        "        else:\n",
        "            image, label = torch.from_numpy( X_list[idx+9000] ), y_list[idx+9000]\n",
        "        \n",
        "        if self.transform:\n",
        "            image = self.transform( image )\n",
        "        if self.target_transform:\n",
        "            label = self.target_transform( label )\n",
        "\n",
        "        return image, label "
      ],
      "metadata": {
        "id": "DdVsYIQeOiGK"
      },
      "execution_count": 73,
      "outputs": []
    },
    {
      "cell_type": "code",
      "source": [
        "my_transform_pretrained = transforms.Resize((224,224))\n",
        "my_transform_single_channel = transforms.Compose([transforms.Resize((224, 224)),\n",
        "                                   transforms.Lambda(lambda x: x.repeat(3, 1, 1) )\n",
        "    ])"
      ],
      "metadata": {
        "id": "wuv4Nr64W25P"
      },
      "execution_count": 11,
      "outputs": []
    },
    {
      "cell_type": "markdown",
      "source": [
        "### Data Augmentation"
      ],
      "metadata": {
        "id": "mOUvNkjGW7dr"
      }
    },
    {
      "cell_type": "code",
      "source": [
        "my_transform_augmentation = transforms.Compose( [transforms.RandomRotation(degrees=90), transforms.Resize((224, 224))] )"
      ],
      "metadata": {
        "id": "KNkmSxzqucy0"
      },
      "execution_count": 12,
      "outputs": []
    },
    {
      "cell_type": "markdown",
      "source": [],
      "metadata": {
        "id": "Qsp6pKV9n8sZ"
      }
    },
    {
      "cell_type": "code",
      "execution_count": 64,
      "metadata": {
        "id": "aq4-0eXJn7t6"
      },
      "outputs": [],
      "source": [
        "train_set = MyDataset(train=True, transform=my_transform_pretrained)\n",
        "train_loader =  DataLoader(train_set, batch_size=200, shuffle=True)"
      ]
    },
    {
      "cell_type": "code",
      "source": [
        "train_set_not_aug = MyDataset(train=True, transform=my_transform_pretrained)\n",
        "train_loader_not_aug =  DataLoader(train_set_not_aug, batch_size=200, shuffle=False)"
      ],
      "metadata": {
        "id": "h4SBgLFxn-Kp"
      },
      "execution_count": 65,
      "outputs": []
    },
    {
      "cell_type": "code",
      "execution_count": 66,
      "metadata": {
        "id": "fN-R9dOzn7t7"
      },
      "outputs": [],
      "source": [
        "test_set = MyDataset(train=False, transform=my_transform_pretrained)\n",
        "test_loader =  DataLoader(test_set, batch_size=200, shuffle=False)"
      ]
    },
    {
      "cell_type": "markdown",
      "source": [
        "## III. Train and Test Loop"
      ],
      "metadata": {
        "id": "FRy4TM4vZyqE"
      }
    },
    {
      "cell_type": "code",
      "source": [
        "criterion = nn.CrossEntropyLoss()"
      ],
      "metadata": {
        "id": "0l4gzRkGrfnK"
      },
      "execution_count": 16,
      "outputs": []
    },
    {
      "cell_type": "code",
      "execution_count": 17,
      "metadata": {
        "id": "LwNKVkC2qk71"
      },
      "outputs": [],
      "source": [
        "def train_loop(dataloader, model, loss_fn, optimizer):\n",
        "    model.train()\n",
        "    \n",
        "    size = len(dataloader.dataset)\n",
        "    running_loss = 0.\n",
        "    #total_sample = 0\n",
        "    for batch_i, data in enumerate(dataloader):\n",
        "        # get the inputs; data is a list of [inputs, labels]\n",
        "        inputs, labels = data[0].to(device), data[1].to(device)\n",
        "        \n",
        "        # zero the parameter gradients\n",
        "        optimizer.zero_grad()\n",
        "        \n",
        "        # Compute prediction and loss\n",
        "        outputs = model(inputs)\n",
        "        loss = loss_fn(outputs, labels)\n",
        "        \n",
        "        # Backpropagation\n",
        "        loss.backward()\n",
        "        optimizer.step()\n",
        "        \n",
        "        # print statistics\n",
        "        running_loss += loss.item()\n",
        "        num_batch_print = 9\n",
        "        if batch_i % num_batch_print == num_batch_print - 1:\n",
        "            current = (batch_i + 1) * len(inputs)\n",
        "            print(f'batch: [{batch_i + 1:5d}], loss: {running_loss / num_batch_print:.3f}')\n",
        "            print(f'temporary loss: {loss.item():>7f} | [{current:>5d}/{size:>5d}]')\n",
        "            running_loss = 0"
      ]
    },
    {
      "cell_type": "code",
      "execution_count": 18,
      "metadata": {
        "id": "e2qgnoTkqr41"
      },
      "outputs": [],
      "source": [
        "def test_loop_Entropy(dataloader, model, loss_fn):\n",
        "    model.eval()\n",
        "    #size = len(dataloader.dataset)\n",
        "    num_batches = len(dataloader)\n",
        "    \n",
        "    test_loss, correct = 0, 0\n",
        "    total = 0\n",
        "    \n",
        "    with torch.no_grad():\n",
        "        for data in dataloader:\n",
        "            # get the inputs for test dataset\n",
        "            images, labels = data[0].to(device), data[1].to(device)\n",
        "            \n",
        "            # calculate the outputs\n",
        "            outputs = model(images)\n",
        "            \n",
        "            # classify which class the output in\n",
        "            _, predicted = torch.max(outputs.data, 1)\n",
        "            #_, labels_value = torch.max(labels.data, 1)\n",
        "            \n",
        "            # obtain the statistics of test loss and correctness\n",
        "            test_loss += loss_fn(outputs, labels).item()\n",
        "            correct += (predicted == labels).sum().item() \n",
        "            #correct += (predicted == labels_value).sum().item() \n",
        "            total += labels.size(0)\n",
        "\n",
        "    print(f\"Test Error: \\n Accuracy: {(100 * correct / total):>0.1f}%\")\n",
        "    print(f\"Avg loss: {test_loss / num_batches:>8f} \\n\")\n",
        "    \n",
        "    return test_loss / num_batches"
      ]
    },
    {
      "cell_type": "code",
      "source": [
        "def test_loop_prob(dataloader, model, class_i):\n",
        "    model.eval()\n",
        "    #size = len(dataloader.dataset)\n",
        "    num_batches = len(dataloader)\n",
        "    \n",
        "    total_prob = list()\n",
        "    total_label = list()\n",
        "    i = 0\n",
        "    with torch.no_grad():\n",
        "        for (i, data) in enumerate(dataloader):\n",
        "            # get the inputs for test dataset\n",
        "            images, labels = data[0].to(device), data[1].to(device)\n",
        "            \n",
        "            # calculate the outputs\n",
        "            outputs = model(images)\n",
        "            probabilities = F.softmax(outputs, dim=1)[:, class_i]\n",
        "            \n",
        "            total_prob += torch.Tensor.cpu(probabilities).numpy().tolist()\n",
        "            \n",
        "            total_label += torch.Tensor.cpu(labels==class_i).numpy().tolist()\n",
        "            \n",
        "            if i % 25 == 0:\n",
        "                print(f\"Process: {i/num_batches*100}\\%\")\n",
        "    return np.array(total_prob), np.array(total_label)"
      ],
      "metadata": {
        "id": "xdlmKkOt6rrt"
      },
      "execution_count": 19,
      "outputs": []
    },
    {
      "cell_type": "markdown",
      "source": [
        "## III. ResNet-18 (baseline)\n",
        "\n",
        "1. Accuracy: 99.5%\n",
        "2. ROC-AUC score: 0.9999"
      ],
      "metadata": {
        "id": "xQ8eyM7jl5dJ"
      }
    },
    {
      "cell_type": "code",
      "source": [
        "# Pre-trained ResNet18\n",
        "model_ResNet18 = torchvision.models.resnet18(pretrained=True).to(device)\n",
        "in_features = model_ResNet18.fc.in_features\n",
        "model_ResNet18.fc = nn.Linear(in_features, 2, device=device)"
      ],
      "metadata": {
        "colab": {
          "base_uri": "https://localhost:8080/"
        },
        "id": "-Zm9OC_7l8oR",
        "outputId": "11ed8dd3-79a8-4804-c485-33c3bf548c8b"
      },
      "execution_count": 75,
      "outputs": [
        {
          "output_type": "stream",
          "name": "stderr",
          "text": [
            "/usr/local/lib/python3.9/dist-packages/torchvision/models/_utils.py:208: UserWarning: The parameter 'pretrained' is deprecated since 0.13 and may be removed in the future, please use 'weights' instead.\n",
            "  warnings.warn(\n",
            "/usr/local/lib/python3.9/dist-packages/torchvision/models/_utils.py:223: UserWarning: Arguments other than a weight enum or `None` for 'weights' are deprecated since 0.13 and may be removed in the future. The current behavior is equivalent to passing `weights=ResNet18_Weights.IMAGENET1K_V1`. You can also use `weights=ResNet18_Weights.DEFAULT` to get the most up-to-date weights.\n",
            "  warnings.warn(msg)\n"
          ]
        }
      ]
    },
    {
      "cell_type": "code",
      "source": [
        "lr_list = [1e-4] * 10 + [1e-5] * 5 + [1e-6] * 5\n",
        "time_start = time.time()\n",
        "# Pre-trained ResNet training\n",
        "for t in range( len(lr_list) ):\n",
        "    print(f\"-------------Epoch {t+1}-------------\")\n",
        "    #optimizer = optim.SGD(model.parameters(), lr=lr_list[t], momentum=0.9)\n",
        "    optimizer = optim.Adam(model_ResNet18.parameters(), lr=lr_list[t])\n",
        "    train_loop(train_loader, model_ResNet18, criterion, optimizer)\n",
        "    print(\"Train Set\")\n",
        "    test_loop_Entropy(train_loader_not_aug, model_ResNet18, criterion)\n",
        "    print(\"Test Set\")\n",
        "    test_loop_Entropy(test_loader, model_ResNet18, criterion)\n",
        "print(\"Done!\")\n",
        "time_end = time.time()\n",
        "print(\"Time Consumption\",time_end-time_start)"
      ],
      "metadata": {
        "colab": {
          "base_uri": "https://localhost:8080/"
        },
        "id": "AhvJ5bMkl9zB",
        "outputId": "d2760903-dfa2-40a6-f122-1e3e9308428e"
      },
      "execution_count": 76,
      "outputs": [
        {
          "output_type": "stream",
          "name": "stdout",
          "text": [
            "-------------Epoch 1-------------\n",
            "batch: [    9], loss: 0.683\n",
            "temporary loss: 0.647695 | [ 1800/ 9000]\n",
            "batch: [   18], loss: 0.571\n",
            "temporary loss: 0.523562 | [ 3600/ 9000]\n",
            "batch: [   27], loss: 0.439\n",
            "temporary loss: 0.342949 | [ 5400/ 9000]\n",
            "batch: [   36], loss: 0.361\n",
            "temporary loss: 0.325334 | [ 7200/ 9000]\n",
            "batch: [   45], loss: 0.281\n",
            "temporary loss: 0.248340 | [ 9000/ 9000]\n",
            "Train Set\n",
            "Test Error: \n",
            " Accuracy: 55.7%\n",
            "Avg loss: 0.712740 \n",
            "\n",
            "Test Set\n",
            "Test Error: \n",
            " Accuracy: 56.1%\n",
            "Avg loss: 0.709432 \n",
            "\n",
            "-------------Epoch 2-------------\n",
            "batch: [    9], loss: 0.289\n",
            "temporary loss: 0.294113 | [ 1800/ 9000]\n",
            "batch: [   18], loss: 0.212\n",
            "temporary loss: 0.159526 | [ 3600/ 9000]\n",
            "batch: [   27], loss: 0.174\n",
            "temporary loss: 0.177555 | [ 5400/ 9000]\n",
            "batch: [   36], loss: 0.149\n",
            "temporary loss: 0.152508 | [ 7200/ 9000]\n",
            "batch: [   45], loss: 0.095\n",
            "temporary loss: 0.103392 | [ 9000/ 9000]\n",
            "Train Set\n",
            "Test Error: \n",
            " Accuracy: 86.3%\n",
            "Avg loss: 0.304784 \n",
            "\n",
            "Test Set\n",
            "Test Error: \n",
            " Accuracy: 83.9%\n",
            "Avg loss: 0.375916 \n",
            "\n",
            "-------------Epoch 3-------------\n",
            "batch: [    9], loss: 0.192\n",
            "temporary loss: 0.191977 | [ 1800/ 9000]\n",
            "batch: [   18], loss: 0.149\n",
            "temporary loss: 0.125289 | [ 3600/ 9000]\n",
            "batch: [   27], loss: 0.114\n",
            "temporary loss: 0.110146 | [ 5400/ 9000]\n",
            "batch: [   36], loss: 0.084\n",
            "temporary loss: 0.079950 | [ 7200/ 9000]\n",
            "batch: [   45], loss: 0.079\n",
            "temporary loss: 0.058604 | [ 9000/ 9000]\n",
            "Train Set\n",
            "Test Error: \n",
            " Accuracy: 98.7%\n",
            "Avg loss: 0.045429 \n",
            "\n",
            "Test Set\n",
            "Test Error: \n",
            " Accuracy: 96.8%\n",
            "Avg loss: 0.082977 \n",
            "\n",
            "-------------Epoch 4-------------\n",
            "batch: [    9], loss: 0.127\n",
            "temporary loss: 0.105689 | [ 1800/ 9000]\n",
            "batch: [   18], loss: 0.106\n",
            "temporary loss: 0.104774 | [ 3600/ 9000]\n",
            "batch: [   27], loss: 0.058\n",
            "temporary loss: 0.091020 | [ 5400/ 9000]\n",
            "batch: [   36], loss: 0.059\n",
            "temporary loss: 0.076587 | [ 7200/ 9000]\n",
            "batch: [   45], loss: 0.046\n",
            "temporary loss: 0.082419 | [ 9000/ 9000]\n",
            "Train Set\n",
            "Test Error: \n",
            " Accuracy: 97.4%\n",
            "Avg loss: 0.066111 \n",
            "\n",
            "Test Set\n",
            "Test Error: \n",
            " Accuracy: 95.3%\n",
            "Avg loss: 0.114690 \n",
            "\n",
            "-------------Epoch 5-------------\n",
            "batch: [    9], loss: 0.084\n",
            "temporary loss: 0.051521 | [ 1800/ 9000]\n",
            "batch: [   18], loss: 0.063\n",
            "temporary loss: 0.057246 | [ 3600/ 9000]\n",
            "batch: [   27], loss: 0.042\n",
            "temporary loss: 0.029932 | [ 5400/ 9000]\n",
            "batch: [   36], loss: 0.043\n",
            "temporary loss: 0.061676 | [ 7200/ 9000]\n",
            "batch: [   45], loss: 0.046\n",
            "temporary loss: 0.039817 | [ 9000/ 9000]\n",
            "Train Set\n",
            "Test Error: \n",
            " Accuracy: 92.0%\n",
            "Avg loss: 0.193058 \n",
            "\n",
            "Test Set\n",
            "Test Error: \n",
            " Accuracy: 88.9%\n",
            "Avg loss: 0.290707 \n",
            "\n",
            "-------------Epoch 6-------------\n",
            "batch: [    9], loss: 0.044\n",
            "temporary loss: 0.063161 | [ 1800/ 9000]\n",
            "batch: [   18], loss: 0.031\n",
            "temporary loss: 0.039366 | [ 3600/ 9000]\n",
            "batch: [   27], loss: 0.026\n",
            "temporary loss: 0.062467 | [ 5400/ 9000]\n",
            "batch: [   36], loss: 0.039\n",
            "temporary loss: 0.034248 | [ 7200/ 9000]\n",
            "batch: [   45], loss: 0.072\n",
            "temporary loss: 0.038640 | [ 9000/ 9000]\n",
            "Train Set\n",
            "Test Error: \n",
            " Accuracy: 94.5%\n",
            "Avg loss: 0.170884 \n",
            "\n",
            "Test Set\n",
            "Test Error: \n",
            " Accuracy: 91.8%\n",
            "Avg loss: 0.332125 \n",
            "\n",
            "-------------Epoch 7-------------\n",
            "batch: [    9], loss: 0.051\n",
            "temporary loss: 0.052524 | [ 1800/ 9000]\n",
            "batch: [   18], loss: 0.047\n",
            "temporary loss: 0.075602 | [ 3600/ 9000]\n",
            "batch: [   27], loss: 0.041\n",
            "temporary loss: 0.081071 | [ 5400/ 9000]\n",
            "batch: [   36], loss: 0.025\n",
            "temporary loss: 0.007100 | [ 7200/ 9000]\n",
            "batch: [   45], loss: 0.026\n",
            "temporary loss: 0.009821 | [ 9000/ 9000]\n",
            "Train Set\n",
            "Test Error: \n",
            " Accuracy: 98.9%\n",
            "Avg loss: 0.027063 \n",
            "\n",
            "Test Set\n",
            "Test Error: \n",
            " Accuracy: 96.1%\n",
            "Avg loss: 0.097945 \n",
            "\n",
            "-------------Epoch 8-------------\n",
            "batch: [    9], loss: 0.047\n",
            "temporary loss: 0.100878 | [ 1800/ 9000]\n",
            "batch: [   18], loss: 0.041\n",
            "temporary loss: 0.017798 | [ 3600/ 9000]\n",
            "batch: [   27], loss: 0.024\n",
            "temporary loss: 0.008569 | [ 5400/ 9000]\n",
            "batch: [   36], loss: 0.024\n",
            "temporary loss: 0.020595 | [ 7200/ 9000]\n",
            "batch: [   45], loss: 0.030\n",
            "temporary loss: 0.065296 | [ 9000/ 9000]\n",
            "Train Set\n",
            "Test Error: \n",
            " Accuracy: 99.6%\n",
            "Avg loss: 0.013983 \n",
            "\n",
            "Test Set\n",
            "Test Error: \n",
            " Accuracy: 97.1%\n",
            "Avg loss: 0.065881 \n",
            "\n",
            "-------------Epoch 9-------------\n",
            "batch: [    9], loss: 0.038\n",
            "temporary loss: 0.092057 | [ 1800/ 9000]\n",
            "batch: [   18], loss: 0.040\n",
            "temporary loss: 0.025419 | [ 3600/ 9000]\n",
            "batch: [   27], loss: 0.034\n",
            "temporary loss: 0.008299 | [ 5400/ 9000]\n",
            "batch: [   36], loss: 0.012\n",
            "temporary loss: 0.010085 | [ 7200/ 9000]\n",
            "batch: [   45], loss: 0.017\n",
            "temporary loss: 0.004182 | [ 9000/ 9000]\n",
            "Train Set\n",
            "Test Error: \n",
            " Accuracy: 97.7%\n",
            "Avg loss: 0.054371 \n",
            "\n",
            "Test Set\n",
            "Test Error: \n",
            " Accuracy: 93.5%\n",
            "Avg loss: 0.169237 \n",
            "\n",
            "-------------Epoch 10-------------\n",
            "batch: [    9], loss: 0.032\n",
            "temporary loss: 0.029376 | [ 1800/ 9000]\n",
            "batch: [   18], loss: 0.023\n",
            "temporary loss: 0.024386 | [ 3600/ 9000]\n",
            "batch: [   27], loss: 0.042\n",
            "temporary loss: 0.046277 | [ 5400/ 9000]\n",
            "batch: [   36], loss: 0.031\n",
            "temporary loss: 0.026792 | [ 7200/ 9000]\n",
            "batch: [   45], loss: 0.009\n",
            "temporary loss: 0.005237 | [ 9000/ 9000]\n",
            "Train Set\n",
            "Test Error: \n",
            " Accuracy: 99.0%\n",
            "Avg loss: 0.029130 \n",
            "\n",
            "Test Set\n",
            "Test Error: \n",
            " Accuracy: 95.9%\n",
            "Avg loss: 0.099138 \n",
            "\n",
            "-------------Epoch 11-------------\n",
            "batch: [    9], loss: 0.009\n",
            "temporary loss: 0.003036 | [ 1800/ 9000]\n",
            "batch: [   18], loss: 0.002\n",
            "temporary loss: 0.001843 | [ 3600/ 9000]\n",
            "batch: [   27], loss: 0.003\n",
            "temporary loss: 0.003784 | [ 5400/ 9000]\n",
            "batch: [   36], loss: 0.002\n",
            "temporary loss: 0.000912 | [ 7200/ 9000]\n",
            "batch: [   45], loss: 0.003\n",
            "temporary loss: 0.002452 | [ 9000/ 9000]\n",
            "Train Set\n",
            "Test Error: \n",
            " Accuracy: 100.0%\n",
            "Avg loss: 0.001052 \n",
            "\n",
            "Test Set\n",
            "Test Error: \n",
            " Accuracy: 98.8%\n",
            "Avg loss: 0.025390 \n",
            "\n",
            "-------------Epoch 12-------------\n",
            "batch: [    9], loss: 0.001\n",
            "temporary loss: 0.002546 | [ 1800/ 9000]\n",
            "batch: [   18], loss: 0.001\n",
            "temporary loss: 0.000533 | [ 3600/ 9000]\n",
            "batch: [   27], loss: 0.001\n",
            "temporary loss: 0.000868 | [ 5400/ 9000]\n",
            "batch: [   36], loss: 0.001\n",
            "temporary loss: 0.002035 | [ 7200/ 9000]\n",
            "batch: [   45], loss: 0.001\n",
            "temporary loss: 0.000595 | [ 9000/ 9000]\n",
            "Train Set\n",
            "Test Error: \n",
            " Accuracy: 100.0%\n",
            "Avg loss: 0.000370 \n",
            "\n",
            "Test Set\n",
            "Test Error: \n",
            " Accuracy: 99.1%\n",
            "Avg loss: 0.020312 \n",
            "\n",
            "-------------Epoch 13-------------\n",
            "batch: [    9], loss: 0.000\n",
            "temporary loss: 0.000273 | [ 1800/ 9000]\n",
            "batch: [   18], loss: 0.000\n",
            "temporary loss: 0.000524 | [ 3600/ 9000]\n",
            "batch: [   27], loss: 0.000\n",
            "temporary loss: 0.000826 | [ 5400/ 9000]\n",
            "batch: [   36], loss: 0.000\n",
            "temporary loss: 0.000233 | [ 7200/ 9000]\n",
            "batch: [   45], loss: 0.000\n",
            "temporary loss: 0.000374 | [ 9000/ 9000]\n",
            "Train Set\n",
            "Test Error: \n",
            " Accuracy: 100.0%\n",
            "Avg loss: 0.000194 \n",
            "\n",
            "Test Set\n",
            "Test Error: \n",
            " Accuracy: 99.5%\n",
            "Avg loss: 0.017973 \n",
            "\n",
            "-------------Epoch 14-------------\n",
            "batch: [    9], loss: 0.001\n",
            "temporary loss: 0.000264 | [ 1800/ 9000]\n",
            "batch: [   18], loss: 0.000\n",
            "temporary loss: 0.000170 | [ 3600/ 9000]\n",
            "batch: [   27], loss: 0.000\n",
            "temporary loss: 0.000164 | [ 5400/ 9000]\n",
            "batch: [   36], loss: 0.000\n",
            "temporary loss: 0.000254 | [ 7200/ 9000]\n",
            "batch: [   45], loss: 0.000\n",
            "temporary loss: 0.000109 | [ 9000/ 9000]\n",
            "Train Set\n",
            "Test Error: \n",
            " Accuracy: 100.0%\n",
            "Avg loss: 0.000152 \n",
            "\n",
            "Test Set\n",
            "Test Error: \n",
            " Accuracy: 99.1%\n",
            "Avg loss: 0.018971 \n",
            "\n",
            "-------------Epoch 15-------------\n",
            "batch: [    9], loss: 0.000\n",
            "temporary loss: 0.000163 | [ 1800/ 9000]\n",
            "batch: [   18], loss: 0.000\n",
            "temporary loss: 0.000096 | [ 3600/ 9000]\n",
            "batch: [   27], loss: 0.000\n",
            "temporary loss: 0.000190 | [ 5400/ 9000]\n",
            "batch: [   36], loss: 0.000\n",
            "temporary loss: 0.000092 | [ 7200/ 9000]\n",
            "batch: [   45], loss: 0.000\n",
            "temporary loss: 0.000134 | [ 9000/ 9000]\n",
            "Train Set\n",
            "Test Error: \n",
            " Accuracy: 100.0%\n",
            "Avg loss: 0.000063 \n",
            "\n",
            "Test Set\n",
            "Test Error: \n",
            " Accuracy: 99.5%\n",
            "Avg loss: 0.016587 \n",
            "\n",
            "-------------Epoch 16-------------\n",
            "batch: [    9], loss: 0.000\n",
            "temporary loss: 0.000099 | [ 1800/ 9000]\n",
            "batch: [   18], loss: 0.000\n",
            "temporary loss: 0.000056 | [ 3600/ 9000]\n",
            "batch: [   27], loss: 0.000\n",
            "temporary loss: 0.000065 | [ 5400/ 9000]\n",
            "batch: [   36], loss: 0.000\n",
            "temporary loss: 0.000076 | [ 7200/ 9000]\n",
            "batch: [   45], loss: 0.000\n",
            "temporary loss: 0.000088 | [ 9000/ 9000]\n",
            "Train Set\n",
            "Test Error: \n",
            " Accuracy: 100.0%\n",
            "Avg loss: 0.000047 \n",
            "\n",
            "Test Set\n",
            "Test Error: \n",
            " Accuracy: 99.4%\n",
            "Avg loss: 0.014168 \n",
            "\n",
            "-------------Epoch 17-------------\n",
            "batch: [    9], loss: 0.000\n",
            "temporary loss: 0.000048 | [ 1800/ 9000]\n",
            "batch: [   18], loss: 0.000\n",
            "temporary loss: 0.000069 | [ 3600/ 9000]\n",
            "batch: [   27], loss: 0.000\n",
            "temporary loss: 0.000046 | [ 5400/ 9000]\n",
            "batch: [   36], loss: 0.000\n",
            "temporary loss: 0.000088 | [ 7200/ 9000]\n",
            "batch: [   45], loss: 0.000\n",
            "temporary loss: 0.000052 | [ 9000/ 9000]\n",
            "Train Set\n",
            "Test Error: \n",
            " Accuracy: 100.0%\n",
            "Avg loss: 0.000042 \n",
            "\n",
            "Test Set\n",
            "Test Error: \n",
            " Accuracy: 99.4%\n",
            "Avg loss: 0.014285 \n",
            "\n",
            "-------------Epoch 18-------------\n",
            "batch: [    9], loss: 0.000\n",
            "temporary loss: 0.000046 | [ 1800/ 9000]\n",
            "batch: [   18], loss: 0.000\n",
            "temporary loss: 0.000048 | [ 3600/ 9000]\n",
            "batch: [   27], loss: 0.000\n",
            "temporary loss: 0.000066 | [ 5400/ 9000]\n",
            "batch: [   36], loss: 0.000\n",
            "temporary loss: 0.000150 | [ 7200/ 9000]\n",
            "batch: [   45], loss: 0.000\n",
            "temporary loss: 0.000043 | [ 9000/ 9000]\n",
            "Train Set\n",
            "Test Error: \n",
            " Accuracy: 100.0%\n",
            "Avg loss: 0.000036 \n",
            "\n",
            "Test Set\n",
            "Test Error: \n",
            " Accuracy: 99.4%\n",
            "Avg loss: 0.012991 \n",
            "\n",
            "-------------Epoch 19-------------\n",
            "batch: [    9], loss: 0.000\n",
            "temporary loss: 0.000041 | [ 1800/ 9000]\n",
            "batch: [   18], loss: 0.000\n",
            "temporary loss: 0.000276 | [ 3600/ 9000]\n",
            "batch: [   27], loss: 0.000\n",
            "temporary loss: 0.000045 | [ 5400/ 9000]\n",
            "batch: [   36], loss: 0.000\n",
            "temporary loss: 0.000062 | [ 7200/ 9000]\n",
            "batch: [   45], loss: 0.000\n",
            "temporary loss: 0.000081 | [ 9000/ 9000]\n",
            "Train Set\n",
            "Test Error: \n",
            " Accuracy: 100.0%\n",
            "Avg loss: 0.000036 \n",
            "\n",
            "Test Set\n",
            "Test Error: \n",
            " Accuracy: 99.5%\n",
            "Avg loss: 0.012567 \n",
            "\n",
            "-------------Epoch 20-------------\n",
            "batch: [    9], loss: 0.000\n",
            "temporary loss: 0.000054 | [ 1800/ 9000]\n",
            "batch: [   18], loss: 0.000\n",
            "temporary loss: 0.000027 | [ 3600/ 9000]\n",
            "batch: [   27], loss: 0.000\n",
            "temporary loss: 0.000033 | [ 5400/ 9000]\n",
            "batch: [   36], loss: 0.000\n",
            "temporary loss: 0.000040 | [ 7200/ 9000]\n",
            "batch: [   45], loss: 0.000\n",
            "temporary loss: 0.000038 | [ 9000/ 9000]\n",
            "Train Set\n",
            "Test Error: \n",
            " Accuracy: 100.0%\n",
            "Avg loss: 0.000031 \n",
            "\n",
            "Test Set\n",
            "Test Error: \n",
            " Accuracy: 99.5%\n",
            "Avg loss: 0.012356 \n",
            "\n",
            "Done!\n",
            "Time Consumption 247.3865909576416\n"
          ]
        }
      ]
    },
    {
      "cell_type": "code",
      "source": [
        "path =\"/content/gdrive/MyDrive/DeepLense_model/DeepLense_Additional_task_ResNet18_weights.pth\"\n",
        "torch.save(model_ResNet18.state_dict(), path)"
      ],
      "metadata": {
        "id": "NuMr05XTtEHH"
      },
      "execution_count": 83,
      "outputs": []
    },
    {
      "cell_type": "code",
      "execution_count": 77,
      "metadata": {
        "colab": {
          "base_uri": "https://localhost:8080/"
        },
        "outputId": "d2d5cdfe-8164-49dc-cbd2-f8c1d44b21c7",
        "id": "RjEGOmKBqAw6"
      },
      "outputs": [
        {
          "output_type": "stream",
          "name": "stdout",
          "text": [
            "Process: 0.0\\%\n"
          ]
        }
      ],
      "source": [
        "total_prob_ResNet18, total_label_ResNet18 = test_loop_prob(test_loader, model_ResNet18, class_i=0)\n",
        "fpr, tpr, thresholds = metrics.roc_curve(total_label_ResNet18, total_prob_ResNet18)\n",
        "ResNet18_AUC_1 = metrics.roc_auc_score(total_label_ResNet18, total_prob_ResNet18)"
      ]
    },
    {
      "cell_type": "code",
      "execution_count": 78,
      "metadata": {
        "colab": {
          "base_uri": "https://localhost:8080/"
        },
        "outputId": "83ec245f-3ba4-4469-dce7-2878240459b7",
        "id": "gDRg66AITtOk"
      },
      "outputs": [
        {
          "output_type": "stream",
          "name": "stdout",
          "text": [
            "The ROC-AUC score of Pre-trained ResNet-18 is: 0.9999079554504381\n"
          ]
        }
      ],
      "source": [
        "print(\"The ROC-AUC score of Pre-trained ResNet-18 is:\", ResNet18_AUC_1)"
      ]
    },
    {
      "cell_type": "code",
      "execution_count": 79,
      "metadata": {
        "colab": {
          "base_uri": "https://localhost:8080/",
          "height": 472
        },
        "outputId": "63929be5-bd7e-446f-acf9-31a245c00795",
        "id": "1VRBYJ55qAxE"
      },
      "outputs": [
        {
          "output_type": "display_data",
          "data": {
            "text/plain": [
              "<Figure size 640x480 with 1 Axes>"
            ],
            "image/png": "[encoded data removed]"
          },
          "metadata": {}
        }
      ],
      "source": [
        "plt.plot(fpr, tpr, \"--\", color=\"magenta\")\n",
        "#plt.plot([0,1],[0,1],\"--\")\n",
        "plt.grid()\n",
        "plt.xlabel(\"False Positive Rate\")\n",
        "plt.ylabel(\"True Positive Rate\")\n",
        "plt.title(\"ROC curve for Pre-trained ResNet-18\")\n",
        "plt.show()"
      ]
    },
    {
      "cell_type": "markdown",
      "source": [
        "## IV. Vision Transformer (ViT)\n",
        "\n",
        "1. Accuracy: 97.9%\n",
        "2. ROC-AUC score: 0.9987"
      ],
      "metadata": {
        "id": "B8WgfESUaI7X"
      }
    },
    {
      "cell_type": "code",
      "execution_count": 81,
      "metadata": {
        "id": "LDddkguhomHm"
      },
      "outputs": [],
      "source": [
        "model_ViT = torchvision.models.vit_b_16(weights=torchvision.models.ViT_B_16_Weights.IMAGENET1K_V1).to(device)\n",
        "#model_ViT = torchvision.models.vit_b_16().to(device)\n",
        "in_features = model_ViT.heads.head.in_features\n",
        "model_ViT.heads.head = nn.Linear(in_features, 2, device=device)"
      ]
    },
    {
      "cell_type": "code",
      "execution_count": 82,
      "metadata": {
        "colab": {
          "base_uri": "https://localhost:8080/"
        },
        "id": "efm4dGtM28X2",
        "outputId": "13e41c9a-bdfe-49f8-9027-4aebcd6c7884"
      },
      "outputs": [
        {
          "output_type": "stream",
          "name": "stdout",
          "text": [
            "-------------Epoch 1-------------\n",
            "batch: [    9], loss: 0.702\n",
            "temporary loss: 0.695854 | [ 1800/ 9000]\n",
            "batch: [   18], loss: 0.685\n",
            "temporary loss: 0.689964 | [ 3600/ 9000]\n",
            "batch: [   27], loss: 0.673\n",
            "temporary loss: 0.658854 | [ 5400/ 9000]\n",
            "batch: [   36], loss: 0.625\n",
            "temporary loss: 0.606742 | [ 7200/ 9000]\n",
            "batch: [   45], loss: 0.542\n",
            "temporary loss: 0.456408 | [ 9000/ 9000]\n",
            "train set\n",
            "Test Error: \n",
            " Accuracy: 77.8%\n",
            "Avg loss: 0.464610 \n",
            "\n",
            "test set\n",
            "Test Error: \n",
            " Accuracy: 76.7%\n",
            "Avg loss: 0.477162 \n",
            "\n",
            "-------------Epoch 2-------------\n",
            "batch: [    9], loss: 0.515\n",
            "temporary loss: 0.486165 | [ 1800/ 9000]\n",
            "batch: [   18], loss: 0.433\n",
            "temporary loss: 0.436168 | [ 3600/ 9000]\n",
            "batch: [   27], loss: 0.360\n",
            "temporary loss: 0.293547 | [ 5400/ 9000]\n",
            "batch: [   36], loss: 0.299\n",
            "temporary loss: 0.306966 | [ 7200/ 9000]\n",
            "batch: [   45], loss: 0.277\n",
            "temporary loss: 0.195957 | [ 9000/ 9000]\n",
            "train set\n",
            "Test Error: \n",
            " Accuracy: 82.4%\n",
            "Avg loss: 0.320086 \n",
            "\n",
            "test set\n",
            "Test Error: \n",
            " Accuracy: 81.3%\n",
            "Avg loss: 0.343528 \n",
            "\n",
            "-------------Epoch 3-------------\n",
            "batch: [    9], loss: 0.602\n",
            "temporary loss: 0.373034 | [ 1800/ 9000]\n",
            "batch: [   18], loss: 0.400\n",
            "temporary loss: 0.354210 | [ 3600/ 9000]\n",
            "batch: [   27], loss: 0.323\n",
            "temporary loss: 0.261060 | [ 5400/ 9000]\n",
            "batch: [   36], loss: 0.257\n",
            "temporary loss: 0.247820 | [ 7200/ 9000]\n",
            "batch: [   45], loss: 0.208\n",
            "temporary loss: 0.225730 | [ 9000/ 9000]\n",
            "train set\n",
            "Test Error: \n",
            " Accuracy: 90.7%\n",
            "Avg loss: 0.200933 \n",
            "\n",
            "test set\n",
            "Test Error: \n",
            " Accuracy: 90.2%\n",
            "Avg loss: 0.213870 \n",
            "\n",
            "-------------Epoch 4-------------\n",
            "batch: [    9], loss: 0.580\n",
            "temporary loss: 0.462492 | [ 1800/ 9000]\n",
            "batch: [   18], loss: 0.341\n",
            "temporary loss: 0.301751 | [ 3600/ 9000]\n",
            "batch: [   27], loss: 0.282\n",
            "temporary loss: 0.239395 | [ 5400/ 9000]\n",
            "batch: [   36], loss: 0.228\n",
            "temporary loss: 0.201493 | [ 7200/ 9000]\n",
            "batch: [   45], loss: 0.181\n",
            "temporary loss: 0.148054 | [ 9000/ 9000]\n",
            "train set\n",
            "Test Error: \n",
            " Accuracy: 92.9%\n",
            "Avg loss: 0.175988 \n",
            "\n",
            "test set\n",
            "Test Error: \n",
            " Accuracy: 90.9%\n",
            "Avg loss: 0.195781 \n",
            "\n",
            "-------------Epoch 5-------------\n",
            "batch: [    9], loss: 0.446\n",
            "temporary loss: 0.446626 | [ 1800/ 9000]\n",
            "batch: [   18], loss: 0.310\n",
            "temporary loss: 0.214500 | [ 3600/ 9000]\n",
            "batch: [   27], loss: 0.251\n",
            "temporary loss: 0.232698 | [ 5400/ 9000]\n",
            "batch: [   36], loss: 0.202\n",
            "temporary loss: 0.206601 | [ 7200/ 9000]\n",
            "batch: [   45], loss: 0.140\n",
            "temporary loss: 0.138584 | [ 9000/ 9000]\n",
            "train set\n",
            "Test Error: \n",
            " Accuracy: 94.6%\n",
            "Avg loss: 0.133941 \n",
            "\n",
            "test set\n",
            "Test Error: \n",
            " Accuracy: 93.7%\n",
            "Avg loss: 0.146952 \n",
            "\n",
            "Done!\n",
            "Time Consumption 449.6180305480957\n"
          ]
        }
      ],
      "source": [
        "lr_list = [1e-5] * 5\n",
        "time_start = time.time()\n",
        "for t in range( len(lr_list) ):\n",
        "    print(f\"-------------Epoch {t+1}-------------\")\n",
        "    #optimizer = optim.SGD(model.parameters(), lr=lr_list[t], momentum=0.9)\n",
        "    optimizer = optim.Adam(model_ViT.parameters(), lr=lr_list[t])\n",
        "    train_loop(train_loader, model_ViT, criterion, optimizer)\n",
        "    print(\"train set\")\n",
        "    test_loop_Entropy(train_loader_not_aug, model_ViT, criterion)\n",
        "    print(\"test set\")\n",
        "    test_loop_Entropy(test_loader, model_ViT, criterion)\n",
        "print(\"Done!\")\n",
        "time_end = time.time()\n",
        "print(\"Time Consumption\",time_end-time_start)"
      ]
    },
    {
      "cell_type": "code",
      "source": [
        "lr_list = [1e-6] * 10\n",
        "time_start = time.time()\n",
        "for t in range( len(lr_list) ):\n",
        "    print(f\"-------------Epoch {t+1}-------------\")\n",
        "    #optimizer = optim.SGD(model.parameters(), lr=lr_list[t], momentum=0.9)\n",
        "    optimizer = optim.Adam(model_ViT.parameters(), lr=lr_list[t])\n",
        "    train_loop(train_loader, model_ViT, criterion, optimizer)\n",
        "    print(\"train set\")\n",
        "    test_loop_Entropy(train_loader_not_aug, model_ViT, criterion)\n",
        "    print(\"test set\")\n",
        "    test_loop_Entropy(test_loader, model_ViT, criterion)\n",
        "print(\"Done!\")\n",
        "time_end = time.time()\n",
        "print(\"Time Consumption\",time_end-time_start)"
      ],
      "metadata": {
        "colab": {
          "base_uri": "https://localhost:8080/"
        },
        "id": "iDOzd6p6s_Hs",
        "outputId": "ff243db7-a296-4f2d-a58e-17ba49381d93"
      },
      "execution_count": 84,
      "outputs": [
        {
          "output_type": "stream",
          "name": "stdout",
          "text": [
            "-------------Epoch 1-------------\n",
            "batch: [    9], loss: 0.125\n",
            "temporary loss: 0.104630 | [ 1800/ 9000]\n",
            "batch: [   18], loss: 0.125\n",
            "temporary loss: 0.121095 | [ 3600/ 9000]\n",
            "batch: [   27], loss: 0.122\n",
            "temporary loss: 0.126424 | [ 5400/ 9000]\n",
            "batch: [   36], loss: 0.105\n",
            "temporary loss: 0.097963 | [ 7200/ 9000]\n",
            "batch: [   45], loss: 0.124\n",
            "temporary loss: 0.104697 | [ 9000/ 9000]\n",
            "train set\n",
            "Test Error: \n",
            " Accuracy: 95.8%\n",
            "Avg loss: 0.104379 \n",
            "\n",
            "test set\n",
            "Test Error: \n",
            " Accuracy: 95.5%\n",
            "Avg loss: 0.114945 \n",
            "\n",
            "-------------Epoch 2-------------\n",
            "batch: [    9], loss: 0.099\n",
            "temporary loss: 0.125410 | [ 1800/ 9000]\n",
            "batch: [   18], loss: 0.099\n",
            "temporary loss: 0.122631 | [ 3600/ 9000]\n",
            "batch: [   27], loss: 0.105\n",
            "temporary loss: 0.100135 | [ 5400/ 9000]\n",
            "batch: [   36], loss: 0.086\n",
            "temporary loss: 0.095718 | [ 7200/ 9000]\n",
            "batch: [   45], loss: 0.101\n",
            "temporary loss: 0.081519 | [ 9000/ 9000]\n",
            "train set\n",
            "Test Error: \n",
            " Accuracy: 96.6%\n",
            "Avg loss: 0.084842 \n",
            "\n",
            "test set\n",
            "Test Error: \n",
            " Accuracy: 96.2%\n",
            "Avg loss: 0.094646 \n",
            "\n",
            "-------------Epoch 3-------------\n",
            "batch: [    9], loss: 0.089\n",
            "temporary loss: 0.098801 | [ 1800/ 9000]\n",
            "batch: [   18], loss: 0.091\n",
            "temporary loss: 0.082903 | [ 3600/ 9000]\n",
            "batch: [   27], loss: 0.091\n",
            "temporary loss: 0.087699 | [ 5400/ 9000]\n",
            "batch: [   36], loss: 0.083\n",
            "temporary loss: 0.101445 | [ 7200/ 9000]\n",
            "batch: [   45], loss: 0.064\n",
            "temporary loss: 0.070781 | [ 9000/ 9000]\n",
            "train set\n",
            "Test Error: \n",
            " Accuracy: 97.1%\n",
            "Avg loss: 0.072898 \n",
            "\n",
            "test set\n",
            "Test Error: \n",
            " Accuracy: 96.4%\n",
            "Avg loss: 0.085347 \n",
            "\n",
            "-------------Epoch 4-------------\n",
            "batch: [    9], loss: 0.063\n",
            "temporary loss: 0.043596 | [ 1800/ 9000]\n",
            "batch: [   18], loss: 0.082\n",
            "temporary loss: 0.076896 | [ 3600/ 9000]\n",
            "batch: [   27], loss: 0.074\n",
            "temporary loss: 0.077312 | [ 5400/ 9000]\n",
            "batch: [   36], loss: 0.066\n",
            "temporary loss: 0.072123 | [ 7200/ 9000]\n",
            "batch: [   45], loss: 0.069\n",
            "temporary loss: 0.075229 | [ 9000/ 9000]\n",
            "train set\n",
            "Test Error: \n",
            " Accuracy: 97.6%\n",
            "Avg loss: 0.061760 \n",
            "\n",
            "test set\n",
            "Test Error: \n",
            " Accuracy: 96.6%\n",
            "Avg loss: 0.075084 \n",
            "\n",
            "-------------Epoch 5-------------\n",
            "batch: [    9], loss: 0.061\n",
            "temporary loss: 0.058467 | [ 1800/ 9000]\n",
            "batch: [   18], loss: 0.062\n",
            "temporary loss: 0.072789 | [ 3600/ 9000]\n",
            "batch: [   27], loss: 0.068\n",
            "temporary loss: 0.076481 | [ 5400/ 9000]\n",
            "batch: [   36], loss: 0.077\n",
            "temporary loss: 0.039514 | [ 7200/ 9000]\n",
            "batch: [   45], loss: 0.067\n",
            "temporary loss: 0.049521 | [ 9000/ 9000]\n",
            "train set\n",
            "Test Error: \n",
            " Accuracy: 97.7%\n",
            "Avg loss: 0.057951 \n",
            "\n",
            "test set\n",
            "Test Error: \n",
            " Accuracy: 97.4%\n",
            "Avg loss: 0.070809 \n",
            "\n",
            "-------------Epoch 6-------------\n",
            "batch: [    9], loss: 0.066\n",
            "temporary loss: 0.067408 | [ 1800/ 9000]\n",
            "batch: [   18], loss: 0.055\n",
            "temporary loss: 0.057402 | [ 3600/ 9000]\n",
            "batch: [   27], loss: 0.052\n",
            "temporary loss: 0.033575 | [ 5400/ 9000]\n",
            "batch: [   36], loss: 0.063\n",
            "temporary loss: 0.066762 | [ 7200/ 9000]\n",
            "batch: [   45], loss: 0.045\n",
            "temporary loss: 0.043723 | [ 9000/ 9000]\n",
            "train set\n",
            "Test Error: \n",
            " Accuracy: 98.2%\n",
            "Avg loss: 0.047141 \n",
            "\n",
            "test set\n",
            "Test Error: \n",
            " Accuracy: 97.4%\n",
            "Avg loss: 0.061420 \n",
            "\n",
            "-------------Epoch 7-------------\n",
            "batch: [    9], loss: 0.061\n",
            "temporary loss: 0.079370 | [ 1800/ 9000]\n",
            "batch: [   18], loss: 0.060\n",
            "temporary loss: 0.060701 | [ 3600/ 9000]\n",
            "batch: [   27], loss: 0.043\n",
            "temporary loss: 0.037205 | [ 5400/ 9000]\n",
            "batch: [   36], loss: 0.058\n",
            "temporary loss: 0.041769 | [ 7200/ 9000]\n",
            "batch: [   45], loss: 0.047\n",
            "temporary loss: 0.037145 | [ 9000/ 9000]\n",
            "train set\n",
            "Test Error: \n",
            " Accuracy: 98.3%\n",
            "Avg loss: 0.045298 \n",
            "\n",
            "test set\n",
            "Test Error: \n",
            " Accuracy: 97.6%\n",
            "Avg loss: 0.057770 \n",
            "\n",
            "-------------Epoch 8-------------\n",
            "batch: [    9], loss: 0.054\n",
            "temporary loss: 0.035697 | [ 1800/ 9000]\n",
            "batch: [   18], loss: 0.053\n",
            "temporary loss: 0.058326 | [ 3600/ 9000]\n",
            "batch: [   27], loss: 0.062\n",
            "temporary loss: 0.046786 | [ 5400/ 9000]\n",
            "batch: [   36], loss: 0.047\n",
            "temporary loss: 0.047964 | [ 7200/ 9000]\n",
            "batch: [   45], loss: 0.044\n",
            "temporary loss: 0.024047 | [ 9000/ 9000]\n",
            "train set\n",
            "Test Error: \n",
            " Accuracy: 98.5%\n",
            "Avg loss: 0.039469 \n",
            "\n",
            "test set\n",
            "Test Error: \n",
            " Accuracy: 97.7%\n",
            "Avg loss: 0.056886 \n",
            "\n",
            "-------------Epoch 9-------------\n",
            "batch: [    9], loss: 0.049\n",
            "temporary loss: 0.038642 | [ 1800/ 9000]\n",
            "batch: [   18], loss: 0.048\n",
            "temporary loss: 0.040471 | [ 3600/ 9000]\n",
            "batch: [   27], loss: 0.044\n",
            "temporary loss: 0.038455 | [ 5400/ 9000]\n",
            "batch: [   36], loss: 0.042\n",
            "temporary loss: 0.031076 | [ 7200/ 9000]\n",
            "batch: [   45], loss: 0.036\n",
            "temporary loss: 0.028554 | [ 9000/ 9000]\n",
            "train set\n",
            "Test Error: \n",
            " Accuracy: 98.6%\n",
            "Avg loss: 0.037874 \n",
            "\n",
            "test set\n",
            "Test Error: \n",
            " Accuracy: 97.8%\n",
            "Avg loss: 0.055051 \n",
            "\n",
            "-------------Epoch 10-------------\n",
            "batch: [    9], loss: 0.042\n",
            "temporary loss: 0.024537 | [ 1800/ 9000]\n",
            "batch: [   18], loss: 0.037\n",
            "temporary loss: 0.037842 | [ 3600/ 9000]\n",
            "batch: [   27], loss: 0.046\n",
            "temporary loss: 0.018666 | [ 5400/ 9000]\n",
            "batch: [   36], loss: 0.035\n",
            "temporary loss: 0.051494 | [ 7200/ 9000]\n",
            "batch: [   45], loss: 0.044\n",
            "temporary loss: 0.063103 | [ 9000/ 9000]\n",
            "train set\n",
            "Test Error: \n",
            " Accuracy: 98.9%\n",
            "Avg loss: 0.031971 \n",
            "\n",
            "test set\n",
            "Test Error: \n",
            " Accuracy: 97.9%\n",
            "Avg loss: 0.047174 \n",
            "\n",
            "Done!\n",
            "Time Consumption 898.5273418426514\n"
          ]
        }
      ]
    },
    {
      "cell_type": "code",
      "source": [
        "path =\"/content/gdrive/MyDrive/DeepLense_model/DeepLense_Additional_task_ViT_weights.pth\"\n",
        "torch.save(model_ViT.state_dict(), path)"
      ],
      "metadata": {
        "id": "fthVRW4NtxDT"
      },
      "execution_count": 85,
      "outputs": []
    },
    {
      "cell_type": "markdown",
      "metadata": {
        "id": "W3WUfRD6u0kh"
      },
      "source": [
        "### ROC-AUC (ViT)"
      ]
    },
    {
      "cell_type": "code",
      "execution_count": 86,
      "metadata": {
        "colab": {
          "base_uri": "https://localhost:8080/"
        },
        "id": "F9Oa6-wVbPji",
        "outputId": "d549173d-8e13-40f2-eeca-eb3291d7bbb9"
      },
      "outputs": [
        {
          "output_type": "stream",
          "name": "stdout",
          "text": [
            "Process: 0.0\\%\n"
          ]
        }
      ],
      "source": [
        "total_prob_ViT, total_label_ViT = test_loop_prob(test_loader, model_ViT, class_i=0)\n",
        "fpr, tpr, thresholds = metrics.roc_curve(total_label_ViT, total_prob_ViT)\n",
        "ViT_AUC_1 = metrics.roc_auc_score(total_label_ViT, total_prob_ViT)"
      ]
    },
    {
      "cell_type": "code",
      "execution_count": 87,
      "metadata": {
        "colab": {
          "base_uri": "https://localhost:8080/"
        },
        "id": "C6LsmkkObPjj",
        "outputId": "63d5ce1c-03d6-470e-eb41-90f190109378"
      },
      "outputs": [
        {
          "output_type": "stream",
          "name": "stdout",
          "text": [
            "The ROC-AUC score of Pre-trained ViT is: 0.9987393898646946\n"
          ]
        }
      ],
      "source": [
        "print(\"The ROC-AUC score of Pre-trained ViT is:\", ViT_AUC_1)"
      ]
    },
    {
      "cell_type": "code",
      "execution_count": 88,
      "metadata": {
        "colab": {
          "base_uri": "https://localhost:8080/",
          "height": 472
        },
        "id": "MkfD04z3bPjj",
        "outputId": "af53727e-ca14-46e2-f7ce-614954d673a7"
      },
      "outputs": [
        {
          "output_type": "display_data",
          "data": {
            "text/plain": [
              "<Figure size 640x480 with 1 Axes>"
            ],
            "image/png": "[encoded data removed]"
          },
          "metadata": {}
        }
      ],
      "source": [
        "plt.plot(fpr, tpr, \"--\", color=\"magenta\")\n",
        "#plt.plot([0,1],[0,1],\"--\")\n",
        "plt.grid()\n",
        "plt.xlabel(\"False Positive Rate\")\n",
        "plt.ylabel(\"True Positive Rate\")\n",
        "plt.title(\"ROC curve for Pre-trained ViT\")\n",
        "plt.show()"
      ]
    },
    {
      "cell_type": "markdown",
      "source": [
        "## V. Swin Transformer\n",
        "\n",
        "1. Accuracy: 94.0% - 94.6%\n",
        "\n",
        "2. ROC-AUC score: 0.9894"
      ],
      "metadata": {
        "id": "ziQ2A3lHaO3j"
      }
    },
    {
      "cell_type": "code",
      "execution_count": 91,
      "metadata": {
        "id": "iMkzEgybrB5C"
      },
      "outputs": [],
      "source": [
        "model_swin_t = torchvision.models.swin_t(weights=torchvision.models.Swin_T_Weights.IMAGENET1K_V1).to(device)\n",
        "in_features = model_swin_t.head.in_features\n",
        "model_swin_t.head = nn.Linear(in_features, 2, device=device)"
      ]
    },
    {
      "cell_type": "code",
      "execution_count": 92,
      "metadata": {
        "colab": {
          "base_uri": "https://localhost:8080/"
        },
        "id": "P3z-hT_YsO8S",
        "outputId": "a36cd652-dc11-4077-d460-f5e99c950056"
      },
      "outputs": [
        {
          "output_type": "stream",
          "name": "stdout",
          "text": [
            "-------------Epoch 1-------------\n",
            "batch: [    9], loss: 0.702\n",
            "temporary loss: 0.687390 | [ 1800/ 9000]\n",
            "batch: [   18], loss: 0.697\n",
            "temporary loss: 0.698830 | [ 3600/ 9000]\n",
            "batch: [   27], loss: 0.692\n",
            "temporary loss: 0.683210 | [ 5400/ 9000]\n",
            "batch: [   36], loss: 0.687\n",
            "temporary loss: 0.689070 | [ 7200/ 9000]\n",
            "batch: [   45], loss: 0.684\n",
            "temporary loss: 0.682049 | [ 9000/ 9000]\n",
            "train set\n",
            "Test Error: \n",
            " Accuracy: 65.4%\n",
            "Avg loss: 0.667355 \n",
            "\n",
            "test set\n",
            "Test Error: \n",
            " Accuracy: 66.1%\n",
            "Avg loss: 0.666725 \n",
            "\n",
            "-------------Epoch 2-------------\n",
            "batch: [    9], loss: 0.676\n",
            "temporary loss: 0.666921 | [ 1800/ 9000]\n",
            "batch: [   18], loss: 0.670\n",
            "temporary loss: 0.648757 | [ 3600/ 9000]\n",
            "batch: [   27], loss: 0.655\n",
            "temporary loss: 0.657836 | [ 5400/ 9000]\n",
            "batch: [   36], loss: 0.652\n",
            "temporary loss: 0.653058 | [ 7200/ 9000]\n",
            "batch: [   45], loss: 0.631\n",
            "temporary loss: 0.621831 | [ 9000/ 9000]\n",
            "train set\n",
            "Test Error: \n",
            " Accuracy: 57.9%\n",
            "Avg loss: 0.613527 \n",
            "\n",
            "test set\n",
            "Test Error: \n",
            " Accuracy: 55.9%\n",
            "Avg loss: 0.622259 \n",
            "\n",
            "-------------Epoch 3-------------\n",
            "batch: [    9], loss: 0.612\n",
            "temporary loss: 0.607320 | [ 1800/ 9000]\n",
            "batch: [   18], loss: 0.600\n",
            "temporary loss: 0.576977 | [ 3600/ 9000]\n",
            "batch: [   27], loss: 0.568\n",
            "temporary loss: 0.577600 | [ 5400/ 9000]\n",
            "batch: [   36], loss: 0.538\n",
            "temporary loss: 0.567404 | [ 7200/ 9000]\n",
            "batch: [   45], loss: 0.528\n",
            "temporary loss: 0.546306 | [ 9000/ 9000]\n",
            "train set\n",
            "Test Error: \n",
            " Accuracy: 80.6%\n",
            "Avg loss: 0.401109 \n",
            "\n",
            "test set\n",
            "Test Error: \n",
            " Accuracy: 78.7%\n",
            "Avg loss: 0.406164 \n",
            "\n",
            "-------------Epoch 4-------------\n",
            "batch: [    9], loss: 0.587\n",
            "temporary loss: 0.526904 | [ 1800/ 9000]\n",
            "batch: [   18], loss: 0.536\n",
            "temporary loss: 0.553584 | [ 3600/ 9000]\n",
            "batch: [   27], loss: 0.501\n",
            "temporary loss: 0.479175 | [ 5400/ 9000]\n",
            "batch: [   36], loss: 0.490\n",
            "temporary loss: 0.500143 | [ 7200/ 9000]\n",
            "batch: [   45], loss: 0.471\n",
            "temporary loss: 0.466446 | [ 9000/ 9000]\n",
            "train set\n",
            "Test Error: \n",
            " Accuracy: 85.6%\n",
            "Avg loss: 0.338128 \n",
            "\n",
            "test set\n",
            "Test Error: \n",
            " Accuracy: 84.1%\n",
            "Avg loss: 0.345222 \n",
            "\n",
            "-------------Epoch 5-------------\n",
            "batch: [    9], loss: 0.463\n",
            "temporary loss: 0.476431 | [ 1800/ 9000]\n",
            "batch: [   18], loss: 0.453\n",
            "temporary loss: 0.499740 | [ 3600/ 9000]\n",
            "batch: [   27], loss: 0.435\n",
            "temporary loss: 0.447666 | [ 5400/ 9000]\n",
            "batch: [   36], loss: 0.437\n",
            "temporary loss: 0.380063 | [ 7200/ 9000]\n",
            "batch: [   45], loss: 0.413\n",
            "temporary loss: 0.423387 | [ 9000/ 9000]\n",
            "train set\n",
            "Test Error: \n",
            " Accuracy: 85.1%\n",
            "Avg loss: 0.315992 \n",
            "\n",
            "test set\n",
            "Test Error: \n",
            " Accuracy: 83.1%\n",
            "Avg loss: 0.333648 \n",
            "\n",
            "-------------Epoch 6-------------\n",
            "batch: [    9], loss: 0.489\n",
            "temporary loss: 0.492406 | [ 1800/ 9000]\n",
            "batch: [   18], loss: 0.435\n",
            "temporary loss: 0.395959 | [ 3600/ 9000]\n",
            "batch: [   27], loss: 0.403\n",
            "temporary loss: 0.378455 | [ 5400/ 9000]\n",
            "batch: [   36], loss: 0.383\n",
            "temporary loss: 0.369499 | [ 7200/ 9000]\n",
            "batch: [   45], loss: 0.382\n",
            "temporary loss: 0.410373 | [ 9000/ 9000]\n",
            "train set\n",
            "Test Error: \n",
            " Accuracy: 88.7%\n",
            "Avg loss: 0.246706 \n",
            "\n",
            "test set\n",
            "Test Error: \n",
            " Accuracy: 87.2%\n",
            "Avg loss: 0.267015 \n",
            "\n",
            "-------------Epoch 7-------------\n",
            "batch: [    9], loss: 0.419\n",
            "temporary loss: 0.419609 | [ 1800/ 9000]\n",
            "batch: [   18], loss: 0.377\n",
            "temporary loss: 0.330789 | [ 3600/ 9000]\n",
            "batch: [   27], loss: 0.349\n",
            "temporary loss: 0.355259 | [ 5400/ 9000]\n",
            "batch: [   36], loss: 0.352\n",
            "temporary loss: 0.334453 | [ 7200/ 9000]\n",
            "batch: [   45], loss: 0.341\n",
            "temporary loss: 0.291012 | [ 9000/ 9000]\n",
            "train set\n",
            "Test Error: \n",
            " Accuracy: 92.2%\n",
            "Avg loss: 0.182272 \n",
            "\n",
            "test set\n",
            "Test Error: \n",
            " Accuracy: 90.9%\n",
            "Avg loss: 0.207440 \n",
            "\n",
            "-------------Epoch 8-------------\n",
            "batch: [    9], loss: 0.461\n",
            "temporary loss: 0.421954 | [ 1800/ 9000]\n",
            "batch: [   18], loss: 0.381\n",
            "temporary loss: 0.367500 | [ 3600/ 9000]\n",
            "batch: [   27], loss: 0.344\n",
            "temporary loss: 0.335259 | [ 5400/ 9000]\n",
            "batch: [   36], loss: 0.313\n",
            "temporary loss: 0.310095 | [ 7200/ 9000]\n",
            "batch: [   45], loss: 0.296\n",
            "temporary loss: 0.338270 | [ 9000/ 9000]\n",
            "train set\n",
            "Test Error: \n",
            " Accuracy: 93.2%\n",
            "Avg loss: 0.167225 \n",
            "\n",
            "test set\n",
            "Test Error: \n",
            " Accuracy: 92.4%\n",
            "Avg loss: 0.191036 \n",
            "\n",
            "-------------Epoch 9-------------\n",
            "batch: [    9], loss: 0.341\n",
            "temporary loss: 0.302544 | [ 1800/ 9000]\n",
            "batch: [   18], loss: 0.328\n",
            "temporary loss: 0.301358 | [ 3600/ 9000]\n",
            "batch: [   27], loss: 0.312\n",
            "temporary loss: 0.289405 | [ 5400/ 9000]\n",
            "batch: [   36], loss: 0.283\n",
            "temporary loss: 0.312480 | [ 7200/ 9000]\n",
            "batch: [   45], loss: 0.274\n",
            "temporary loss: 0.278717 | [ 9000/ 9000]\n",
            "train set\n",
            "Test Error: \n",
            " Accuracy: 94.0%\n",
            "Avg loss: 0.136653 \n",
            "\n",
            "test set\n",
            "Test Error: \n",
            " Accuracy: 93.0%\n",
            "Avg loss: 0.163203 \n",
            "\n",
            "-------------Epoch 10-------------\n",
            "batch: [    9], loss: 0.402\n",
            "temporary loss: 0.400768 | [ 1800/ 9000]\n",
            "batch: [   18], loss: 0.321\n",
            "temporary loss: 0.249290 | [ 3600/ 9000]\n",
            "batch: [   27], loss: 0.288\n",
            "temporary loss: 0.282167 | [ 5400/ 9000]\n",
            "batch: [   36], loss: 0.269\n",
            "temporary loss: 0.299987 | [ 7200/ 9000]\n",
            "batch: [   45], loss: 0.258\n",
            "temporary loss: 0.244751 | [ 9000/ 9000]\n",
            "train set\n",
            "Test Error: \n",
            " Accuracy: 93.3%\n",
            "Avg loss: 0.149497 \n",
            "\n",
            "test set\n",
            "Test Error: \n",
            " Accuracy: 91.7%\n",
            "Avg loss: 0.179438 \n",
            "\n",
            "Done!\n",
            "Time Consumption 453.08827090263367\n"
          ]
        }
      ],
      "source": [
        "lr_list = [1e-5] * 10\n",
        "time_start = time.time()\n",
        "for t in range( len(lr_list) ):\n",
        "    print(f\"-------------Epoch {t+1}-------------\")\n",
        "    #optimizer = optim.SGD(model.parameters(), lr=lr_list[t], momentum=0.9)\n",
        "    optimizer = optim.Adam(model_swin_t.parameters(), lr=lr_list[t])\n",
        "    train_loop(train_loader, model_swin_t, criterion, optimizer)\n",
        "    print(\"train set\")\n",
        "    test_loop_Entropy(train_loader_not_aug, model_swin_t, criterion)\n",
        "    print(\"test set\")\n",
        "    test_loop_Entropy(test_loader, model_swin_t, criterion)\n",
        "print(\"Done!\")\n",
        "time_end = time.time()\n",
        "print(\"Time Consumption\",time_end-time_start)"
      ]
    },
    {
      "cell_type": "code",
      "source": [
        "lr_list = [1e-6] * 5 + [1e-7] * 5\n",
        "time_start = time.time()\n",
        "for t in range( len(lr_list) ):\n",
        "    print(f\"-------------Epoch {t+1}-------------\")\n",
        "    #optimizer = optim.SGD(model.parameters(), lr=lr_list[t], momentum=0.9)\n",
        "    optimizer = optim.Adam(model_swin_t.parameters(), lr=lr_list[t])\n",
        "    train_loop(train_loader, model_swin_t, criterion, optimizer)\n",
        "    print(\"train set\")\n",
        "    test_loop_Entropy(train_loader_not_aug, model_swin_t, criterion)\n",
        "    print(\"test set\")\n",
        "    test_loop_Entropy(test_loader, model_swin_t, criterion)\n",
        "print(\"Done!\")\n",
        "time_end = time.time()\n",
        "print(\"Time Consumption\",time_end-time_start)"
      ],
      "metadata": {
        "colab": {
          "base_uri": "https://localhost:8080/"
        },
        "id": "I5b4-P8WzJY8",
        "outputId": "de720a63-5721-4a09-a4b9-c9715f2facf0"
      },
      "execution_count": 93,
      "outputs": [
        {
          "output_type": "stream",
          "name": "stdout",
          "text": [
            "-------------Epoch 1-------------\n",
            "batch: [    9], loss: 0.265\n",
            "temporary loss: 0.286800 | [ 1800/ 9000]\n",
            "batch: [   18], loss: 0.245\n",
            "temporary loss: 0.217490 | [ 3600/ 9000]\n",
            "batch: [   27], loss: 0.242\n",
            "temporary loss: 0.191520 | [ 5400/ 9000]\n",
            "batch: [   36], loss: 0.256\n",
            "temporary loss: 0.239969 | [ 7200/ 9000]\n",
            "batch: [   45], loss: 0.244\n",
            "temporary loss: 0.242480 | [ 9000/ 9000]\n",
            "train set\n",
            "Test Error: \n",
            " Accuracy: 93.8%\n",
            "Avg loss: 0.136503 \n",
            "\n",
            "test set\n",
            "Test Error: \n",
            " Accuracy: 92.7%\n",
            "Avg loss: 0.165679 \n",
            "\n",
            "-------------Epoch 2-------------\n",
            "batch: [    9], loss: 0.250\n",
            "temporary loss: 0.238037 | [ 1800/ 9000]\n",
            "batch: [   18], loss: 0.264\n",
            "temporary loss: 0.246262 | [ 3600/ 9000]\n",
            "batch: [   27], loss: 0.237\n",
            "temporary loss: 0.298812 | [ 5400/ 9000]\n",
            "batch: [   36], loss: 0.228\n",
            "temporary loss: 0.236915 | [ 7200/ 9000]\n",
            "batch: [   45], loss: 0.230\n",
            "temporary loss: 0.218312 | [ 9000/ 9000]\n",
            "train set\n",
            "Test Error: \n",
            " Accuracy: 94.8%\n",
            "Avg loss: 0.121703 \n",
            "\n",
            "test set\n",
            "Test Error: \n",
            " Accuracy: 93.4%\n",
            "Avg loss: 0.149620 \n",
            "\n",
            "-------------Epoch 3-------------\n",
            "batch: [    9], loss: 0.230\n",
            "temporary loss: 0.188122 | [ 1800/ 9000]\n",
            "batch: [   18], loss: 0.233\n",
            "temporary loss: 0.234837 | [ 3600/ 9000]\n",
            "batch: [   27], loss: 0.229\n",
            "temporary loss: 0.283329 | [ 5400/ 9000]\n",
            "batch: [   36], loss: 0.239\n",
            "temporary loss: 0.222887 | [ 7200/ 9000]\n",
            "batch: [   45], loss: 0.233\n",
            "temporary loss: 0.247346 | [ 9000/ 9000]\n",
            "train set\n",
            "Test Error: \n",
            " Accuracy: 95.6%\n",
            "Avg loss: 0.110099 \n",
            "\n",
            "test set\n",
            "Test Error: \n",
            " Accuracy: 94.1%\n",
            "Avg loss: 0.140459 \n",
            "\n",
            "-------------Epoch 4-------------\n",
            "batch: [    9], loss: 0.232\n",
            "temporary loss: 0.201739 | [ 1800/ 9000]\n",
            "batch: [   18], loss: 0.224\n",
            "temporary loss: 0.191276 | [ 3600/ 9000]\n",
            "batch: [   27], loss: 0.236\n",
            "temporary loss: 0.192849 | [ 5400/ 9000]\n",
            "batch: [   36], loss: 0.231\n",
            "temporary loss: 0.247869 | [ 7200/ 9000]\n",
            "batch: [   45], loss: 0.225\n",
            "temporary loss: 0.245846 | [ 9000/ 9000]\n",
            "train set\n",
            "Test Error: \n",
            " Accuracy: 94.9%\n",
            "Avg loss: 0.116185 \n",
            "\n",
            "test set\n",
            "Test Error: \n",
            " Accuracy: 92.9%\n",
            "Avg loss: 0.149906 \n",
            "\n",
            "-------------Epoch 5-------------\n",
            "batch: [    9], loss: 0.225\n",
            "temporary loss: 0.200636 | [ 1800/ 9000]\n",
            "batch: [   18], loss: 0.245\n",
            "temporary loss: 0.209587 | [ 3600/ 9000]\n",
            "batch: [   27], loss: 0.230\n",
            "temporary loss: 0.188027 | [ 5400/ 9000]\n",
            "batch: [   36], loss: 0.233\n",
            "temporary loss: 0.209420 | [ 7200/ 9000]\n",
            "batch: [   45], loss: 0.221\n",
            "temporary loss: 0.212142 | [ 9000/ 9000]\n",
            "train set\n",
            "Test Error: \n",
            " Accuracy: 94.9%\n",
            "Avg loss: 0.117384 \n",
            "\n",
            "test set\n",
            "Test Error: \n",
            " Accuracy: 93.1%\n",
            "Avg loss: 0.151259 \n",
            "\n",
            "-------------Epoch 6-------------\n",
            "batch: [    9], loss: 0.216\n",
            "temporary loss: 0.195604 | [ 1800/ 9000]\n",
            "batch: [   18], loss: 0.221\n",
            "temporary loss: 0.229439 | [ 3600/ 9000]\n",
            "batch: [   27], loss: 0.227\n",
            "temporary loss: 0.246369 | [ 5400/ 9000]\n",
            "batch: [   36], loss: 0.221\n",
            "temporary loss: 0.239463 | [ 7200/ 9000]\n",
            "batch: [   45], loss: 0.218\n",
            "temporary loss: 0.229600 | [ 9000/ 9000]\n",
            "train set\n",
            "Test Error: \n",
            " Accuracy: 95.7%\n",
            "Avg loss: 0.103638 \n",
            "\n",
            "test set\n",
            "Test Error: \n",
            " Accuracy: 94.6%\n",
            "Avg loss: 0.135816 \n",
            "\n",
            "-------------Epoch 7-------------\n",
            "batch: [    9], loss: 0.214\n",
            "temporary loss: 0.249522 | [ 1800/ 9000]\n",
            "batch: [   18], loss: 0.218\n",
            "temporary loss: 0.254185 | [ 3600/ 9000]\n",
            "batch: [   27], loss: 0.211\n",
            "temporary loss: 0.202767 | [ 5400/ 9000]\n",
            "batch: [   36], loss: 0.224\n",
            "temporary loss: 0.255704 | [ 7200/ 9000]\n",
            "batch: [   45], loss: 0.238\n",
            "temporary loss: 0.258620 | [ 9000/ 9000]\n",
            "train set\n",
            "Test Error: \n",
            " Accuracy: 95.8%\n",
            "Avg loss: 0.102407 \n",
            "\n",
            "test set\n",
            "Test Error: \n",
            " Accuracy: 94.5%\n",
            "Avg loss: 0.134068 \n",
            "\n",
            "-------------Epoch 8-------------\n",
            "batch: [    9], loss: 0.227\n",
            "temporary loss: 0.282252 | [ 1800/ 9000]\n",
            "batch: [   18], loss: 0.217\n",
            "temporary loss: 0.280441 | [ 3600/ 9000]\n",
            "batch: [   27], loss: 0.225\n",
            "temporary loss: 0.222234 | [ 5400/ 9000]\n",
            "batch: [   36], loss: 0.222\n",
            "temporary loss: 0.163843 | [ 7200/ 9000]\n",
            "batch: [   45], loss: 0.216\n",
            "temporary loss: 0.251112 | [ 9000/ 9000]\n",
            "train set\n",
            "Test Error: \n",
            " Accuracy: 95.7%\n",
            "Avg loss: 0.104126 \n",
            "\n",
            "test set\n",
            "Test Error: \n",
            " Accuracy: 94.4%\n",
            "Avg loss: 0.135827 \n",
            "\n",
            "-------------Epoch 9-------------\n",
            "batch: [    9], loss: 0.232\n",
            "temporary loss: 0.165735 | [ 1800/ 9000]\n",
            "batch: [   18], loss: 0.208\n",
            "temporary loss: 0.225653 | [ 3600/ 9000]\n",
            "batch: [   27], loss: 0.221\n",
            "temporary loss: 0.245501 | [ 5400/ 9000]\n",
            "batch: [   36], loss: 0.210\n",
            "temporary loss: 0.167708 | [ 7200/ 9000]\n",
            "batch: [   45], loss: 0.223\n",
            "temporary loss: 0.202614 | [ 9000/ 9000]\n",
            "train set\n",
            "Test Error: \n",
            " Accuracy: 95.6%\n",
            "Avg loss: 0.105524 \n",
            "\n",
            "test set\n",
            "Test Error: \n",
            " Accuracy: 94.1%\n",
            "Avg loss: 0.137542 \n",
            "\n",
            "-------------Epoch 10-------------\n",
            "batch: [    9], loss: 0.211\n",
            "temporary loss: 0.197398 | [ 1800/ 9000]\n",
            "batch: [   18], loss: 0.230\n",
            "temporary loss: 0.198989 | [ 3600/ 9000]\n",
            "batch: [   27], loss: 0.224\n",
            "temporary loss: 0.211690 | [ 5400/ 9000]\n",
            "batch: [   36], loss: 0.221\n",
            "temporary loss: 0.230135 | [ 7200/ 9000]\n",
            "batch: [   45], loss: 0.217\n",
            "temporary loss: 0.220939 | [ 9000/ 9000]\n",
            "train set\n",
            "Test Error: \n",
            " Accuracy: 95.5%\n",
            "Avg loss: 0.105915 \n",
            "\n",
            "test set\n",
            "Test Error: \n",
            " Accuracy: 94.0%\n",
            "Avg loss: 0.138150 \n",
            "\n",
            "Done!\n",
            "Time Consumption 452.6651861667633\n"
          ]
        }
      ]
    },
    {
      "cell_type": "code",
      "source": [
        "path =\"/content/gdrive/MyDrive/DeepLense_model/DeepLense_Additional_task_Swin_tiny_weights.pth\"\n",
        "torch.save(model_swin_t.state_dict(), path)"
      ],
      "metadata": {
        "id": "e5rYW5ZG1h7O"
      },
      "execution_count": 97,
      "outputs": []
    },
    {
      "cell_type": "markdown",
      "metadata": {
        "id": "vyHWv6kzmmT2"
      },
      "source": [
        "### ROC-AUC (Swin Transformer)"
      ]
    },
    {
      "cell_type": "code",
      "execution_count": 94,
      "metadata": {
        "colab": {
          "base_uri": "https://localhost:8080/"
        },
        "outputId": "5efe0550-91ed-4082-f1ee-d80b3507cd74",
        "id": "PGAsarpRmmT2"
      },
      "outputs": [
        {
          "output_type": "stream",
          "name": "stdout",
          "text": [
            "Process: 0.0\\%\n"
          ]
        }
      ],
      "source": [
        "total_prob_swin_t, total_label_swin_t = test_loop_prob(test_loader, model_swin_t, class_i=0)\n",
        "fpr, tpr, thresholds = metrics.roc_curve(total_label_swin_t, total_prob_swin_t)\n",
        "swin_t_AUC_1 = metrics.roc_auc_score(total_label_swin_t, total_prob_swin_t)"
      ]
    },
    {
      "cell_type": "code",
      "execution_count": 95,
      "metadata": {
        "colab": {
          "base_uri": "https://localhost:8080/"
        },
        "outputId": "0c963c67-429b-438d-b6a4-d0aecb8e87fe",
        "id": "lOfTZE_lmmT3"
      },
      "outputs": [
        {
          "output_type": "stream",
          "name": "stdout",
          "text": [
            "The ROC-AUC score of Pre-trained Swin Transformer (tiny) is: 0.9894468922958711\n"
          ]
        }
      ],
      "source": [
        "print(\"The ROC-AUC score of Pre-trained Swin Transformer (tiny) is:\", swin_t_AUC_1)"
      ]
    },
    {
      "cell_type": "code",
      "execution_count": 96,
      "metadata": {
        "colab": {
          "base_uri": "https://localhost:8080/",
          "height": 472
        },
        "outputId": "e5e176b4-face-4855-ecd1-a601f1bf3e8d",
        "id": "So3LdOpImmT3"
      },
      "outputs": [
        {
          "output_type": "display_data",
          "data": {
            "text/plain": [
              "<Figure size 640x480 with 1 Axes>"
            ],
            "image/png": "[encoded data removed]"
          },
          "metadata": {}
        }
      ],
      "source": [
        "plt.plot(fpr, tpr, \"--\", color=\"magenta\")\n",
        "#plt.plot([0,1],[0,1],\"--\")\n",
        "plt.grid()\n",
        "plt.xlabel(\"False Positive Rate\")\n",
        "plt.ylabel(\"True Positive Rate\")\n",
        "plt.title(\"ROC curve for Pre-trained Swin Transformer (tiny)\")\n",
        "plt.show()"
      ]
    },
    {
      "cell_type": "markdown",
      "source": [
        "## Further Discussion: Data Augmentation"
      ],
      "metadata": {
        "id": "KqpXGSdIpS3x"
      }
    },
    {
      "cell_type": "markdown",
      "source": [
        "We can also include random rotations (data augmentation) in the training of three models"
      ],
      "metadata": {
        "id": "rVIed33priHI"
      }
    },
    {
      "cell_type": "code",
      "execution_count": 98,
      "metadata": {
        "id": "0S2EbXVsqVlh"
      },
      "outputs": [],
      "source": [
        "train_set = MyDataset(train=True, transform=my_transform_augmentation)\n",
        "train_loader =  DataLoader(train_set, batch_size=200, shuffle=True)"
      ]
    },
    {
      "cell_type": "code",
      "source": [
        "train_set_not_aug = MyDataset(train=True, transform=my_transform_pretrained)\n",
        "train_loader_not_aug =  DataLoader(train_set_not_aug, batch_size=200, shuffle=False)"
      ],
      "metadata": {
        "id": "0vdZkpahwevT"
      },
      "execution_count": 99,
      "outputs": []
    },
    {
      "cell_type": "code",
      "execution_count": 100,
      "metadata": {
        "id": "kpi9YN64iyOF"
      },
      "outputs": [],
      "source": [
        "test_set = MyDataset(train=False, transform=my_transform_pretrained)\n",
        "test_loader =  DataLoader(test_set, batch_size=200, shuffle=False)"
      ]
    },
    {
      "cell_type": "markdown",
      "source": [
        "### ResNet-18 (with data augmentation)"
      ],
      "metadata": {
        "id": "Ni3vYLXHrzLM"
      }
    },
    {
      "cell_type": "code",
      "source": [
        "# Pre-trained ResNet18\n",
        "model_ResNet18 = torchvision.models.resnet18(pretrained=True).to(device)\n",
        "in_features = model_ResNet18.fc.in_features\n",
        "model_ResNet18.fc = nn.Linear(in_features, 2, device=device)"
      ],
      "metadata": {
        "colab": {
          "base_uri": "https://localhost:8080/"
        },
        "outputId": "e55dc454-af25-4fa5-c249-053898b45350",
        "id": "wjCDP0zosxmD"
      },
      "execution_count": 101,
      "outputs": [
        {
          "output_type": "stream",
          "name": "stderr",
          "text": [
            "/usr/local/lib/python3.9/dist-packages/torchvision/models/_utils.py:208: UserWarning: The parameter 'pretrained' is deprecated since 0.13 and may be removed in the future, please use 'weights' instead.\n",
            "  warnings.warn(\n",
            "/usr/local/lib/python3.9/dist-packages/torchvision/models/_utils.py:223: UserWarning: Arguments other than a weight enum or `None` for 'weights' are deprecated since 0.13 and may be removed in the future. The current behavior is equivalent to passing `weights=ResNet18_Weights.IMAGENET1K_V1`. You can also use `weights=ResNet18_Weights.DEFAULT` to get the most up-to-date weights.\n",
            "  warnings.warn(msg)\n"
          ]
        }
      ]
    },
    {
      "cell_type": "code",
      "source": [
        "lr_list = [1e-4] * 3\n",
        "time_start = time.time()\n",
        "# Pre-trained ResNet training\n",
        "for t in range( len(lr_list) ):\n",
        "    print(f\"-------------Epoch {t+1}-------------\")\n",
        "    #optimizer = optim.SGD(model.parameters(), lr=lr_list[t], momentum=0.9)\n",
        "    optimizer = optim.Adam(model_ResNet18.parameters(), lr=lr_list[t])\n",
        "    train_loop(train_loader, model_ResNet18, criterion, optimizer)\n",
        "    print(\"Train Set\")\n",
        "    test_loop_Entropy(train_loader_not_aug, model_ResNet18, criterion)\n",
        "    print(\"Test Set\")\n",
        "    test_loop_Entropy(test_loader, model_ResNet18, criterion)\n",
        "print(\"Done!\")\n",
        "time_end = time.time()\n",
        "print(\"Time Consumption\",time_end-time_start)"
      ],
      "metadata": {
        "colab": {
          "base_uri": "https://localhost:8080/"
        },
        "outputId": "93a910a7-8b95-4b57-d823-60fa79aaf59c",
        "id": "nzKC0qSIsxmE"
      },
      "execution_count": 102,
      "outputs": [
        {
          "output_type": "stream",
          "name": "stdout",
          "text": [
            "-------------Epoch 1-------------\n",
            "batch: [    9], loss: 0.718\n",
            "temporary loss: 0.666936 | [ 1800/ 9000]\n",
            "batch: [   18], loss: 0.655\n",
            "temporary loss: 0.631962 | [ 3600/ 9000]\n",
            "batch: [   27], loss: 0.607\n",
            "temporary loss: 0.609104 | [ 5400/ 9000]\n",
            "batch: [   36], loss: 0.542\n",
            "temporary loss: 0.521179 | [ 7200/ 9000]\n",
            "batch: [   45], loss: 0.506\n",
            "temporary loss: 0.434379 | [ 9000/ 9000]\n",
            "Train Set\n",
            "Test Error: \n",
            " Accuracy: 52.1%\n",
            "Avg loss: 1.121206 \n",
            "\n",
            "Test Set\n",
            "Test Error: \n",
            " Accuracy: 53.0%\n",
            "Avg loss: 1.097930 \n",
            "\n",
            "-------------Epoch 2-------------\n",
            "batch: [    9], loss: 0.456\n",
            "temporary loss: 0.406600 | [ 1800/ 9000]\n",
            "batch: [   18], loss: 0.422\n",
            "temporary loss: 0.362187 | [ 3600/ 9000]\n",
            "batch: [   27], loss: 0.378\n",
            "temporary loss: 0.354457 | [ 5400/ 9000]\n",
            "batch: [   36], loss: 0.325\n",
            "temporary loss: 0.263295 | [ 7200/ 9000]\n",
            "batch: [   45], loss: 0.293\n",
            "temporary loss: 0.270404 | [ 9000/ 9000]\n",
            "Train Set\n",
            "Test Error: \n",
            " Accuracy: 79.1%\n",
            "Avg loss: 0.417312 \n",
            "\n",
            "Test Set\n",
            "Test Error: \n",
            " Accuracy: 79.9%\n",
            "Avg loss: 0.403013 \n",
            "\n",
            "-------------Epoch 3-------------\n",
            "batch: [    9], loss: 0.316\n",
            "temporary loss: 0.276275 | [ 1800/ 9000]\n",
            "batch: [   18], loss: 0.278\n",
            "temporary loss: 0.200530 | [ 3600/ 9000]\n",
            "batch: [   27], loss: 0.237\n",
            "temporary loss: 0.159096 | [ 5400/ 9000]\n",
            "batch: [   36], loss: 0.204\n",
            "temporary loss: 0.185941 | [ 7200/ 9000]\n",
            "batch: [   45], loss: 0.181\n",
            "temporary loss: 0.176727 | [ 9000/ 9000]\n",
            "Train Set\n",
            "Test Error: \n",
            " Accuracy: 93.0%\n",
            "Avg loss: 0.172240 \n",
            "\n",
            "Test Set\n",
            "Test Error: \n",
            " Accuracy: 92.7%\n",
            "Avg loss: 0.179302 \n",
            "\n",
            "Done!\n",
            "Time Consumption 67.3064341545105\n"
          ]
        }
      ]
    },
    {
      "cell_type": "markdown",
      "source": [
        "### ViT (with data augmentation)"
      ],
      "metadata": {
        "id": "gCQM8qm6s1QG"
      }
    },
    {
      "cell_type": "code",
      "execution_count": 103,
      "metadata": {
        "id": "b6MTck4MuBoJ"
      },
      "outputs": [],
      "source": [
        "model_ViT = torchvision.models.vit_b_16(weights=torchvision.models.ViT_B_16_Weights.IMAGENET1K_V1).to(device)\n",
        "#model_ViT = torchvision.models.vit_b_16().to(device)\n",
        "in_features = model_ViT.heads.head.in_features\n",
        "model_ViT.heads.head = nn.Linear(in_features, 2, device=device)"
      ]
    },
    {
      "cell_type": "code",
      "execution_count": 104,
      "metadata": {
        "colab": {
          "base_uri": "https://localhost:8080/"
        },
        "outputId": "13722789-2e41-46cc-8333-6047968ca1e5",
        "id": "kMKJZD4ruBoK"
      },
      "outputs": [
        {
          "output_type": "stream",
          "name": "stdout",
          "text": [
            "-------------Epoch 1-------------\n",
            "batch: [    9], loss: 0.689\n",
            "temporary loss: 0.677114 | [ 1800/ 9000]\n",
            "batch: [   18], loss: 0.679\n",
            "temporary loss: 0.674508 | [ 3600/ 9000]\n",
            "batch: [   27], loss: 0.640\n",
            "temporary loss: 0.621194 | [ 5400/ 9000]\n",
            "batch: [   36], loss: 0.570\n",
            "temporary loss: 0.507000 | [ 7200/ 9000]\n",
            "batch: [   45], loss: 0.489\n",
            "temporary loss: 0.505345 | [ 9000/ 9000]\n",
            "train set\n",
            "Test Error: \n",
            " Accuracy: 79.5%\n",
            "Avg loss: 0.428672 \n",
            "\n",
            "test set\n",
            "Test Error: \n",
            " Accuracy: 78.3%\n",
            "Avg loss: 0.431813 \n",
            "\n",
            "-------------Epoch 2-------------\n",
            "batch: [    9], loss: 0.651\n",
            "temporary loss: 0.588029 | [ 1800/ 9000]\n",
            "batch: [   18], loss: 0.530\n",
            "temporary loss: 0.467191 | [ 3600/ 9000]\n",
            "batch: [   27], loss: 0.440\n",
            "temporary loss: 0.400609 | [ 5400/ 9000]\n",
            "batch: [   36], loss: 0.368\n",
            "temporary loss: 0.367140 | [ 7200/ 9000]\n",
            "batch: [   45], loss: 0.335\n",
            "temporary loss: 0.361628 | [ 9000/ 9000]\n",
            "train set\n",
            "Test Error: \n",
            " Accuracy: 83.2%\n",
            "Avg loss: 0.307351 \n",
            "\n",
            "test set\n",
            "Test Error: \n",
            " Accuracy: 82.8%\n",
            "Avg loss: 0.317860 \n",
            "\n",
            "-------------Epoch 3-------------\n",
            "batch: [    9], loss: 0.640\n",
            "temporary loss: 0.563013 | [ 1800/ 9000]\n",
            "batch: [   18], loss: 0.480\n",
            "temporary loss: 0.490084 | [ 3600/ 9000]\n",
            "batch: [   27], loss: 0.408\n",
            "temporary loss: 0.341360 | [ 5400/ 9000]\n",
            "batch: [   36], loss: 0.341\n",
            "temporary loss: 0.293503 | [ 7200/ 9000]\n",
            "batch: [   45], loss: 0.294\n",
            "temporary loss: 0.298719 | [ 9000/ 9000]\n",
            "train set\n",
            "Test Error: \n",
            " Accuracy: 84.7%\n",
            "Avg loss: 0.285421 \n",
            "\n",
            "test set\n",
            "Test Error: \n",
            " Accuracy: 84.2%\n",
            "Avg loss: 0.297201 \n",
            "\n",
            "Done!\n",
            "Time Consumption 299.8474793434143\n"
          ]
        }
      ],
      "source": [
        "lr_list = [1e-5] * 3\n",
        "time_start = time.time()\n",
        "for t in range( len(lr_list) ):\n",
        "    print(f\"-------------Epoch {t+1}-------------\")\n",
        "    #optimizer = optim.SGD(model.parameters(), lr=lr_list[t], momentum=0.9)\n",
        "    optimizer = optim.Adam(model_ViT.parameters(), lr=lr_list[t])\n",
        "    train_loop(train_loader, model_ViT, criterion, optimizer)\n",
        "    print(\"train set\")\n",
        "    test_loop_Entropy(train_loader_not_aug, model_ViT, criterion)\n",
        "    print(\"test set\")\n",
        "    test_loop_Entropy(test_loader, model_ViT, criterion)\n",
        "print(\"Done!\")\n",
        "time_end = time.time()\n",
        "print(\"Time Consumption\",time_end-time_start)"
      ]
    },
    {
      "cell_type": "markdown",
      "source": [
        "### Swin Transformer (with data augmentation)"
      ],
      "metadata": {
        "id": "GTNYi7rCuFgB"
      }
    },
    {
      "cell_type": "code",
      "execution_count": 105,
      "metadata": {
        "id": "HBzPGwr0udsN"
      },
      "outputs": [],
      "source": [
        "model_swin_t = torchvision.models.swin_t(weights=torchvision.models.Swin_T_Weights.IMAGENET1K_V1).to(device)\n",
        "in_features = model_swin_t.head.in_features\n",
        "model_swin_t.head = nn.Linear(in_features, 2, device=device)"
      ]
    },
    {
      "cell_type": "code",
      "execution_count": 106,
      "metadata": {
        "colab": {
          "base_uri": "https://localhost:8080/"
        },
        "id": "05kqDg6CudsO",
        "outputId": "9d008404-e95a-485f-8542-5ae2b103e157"
      },
      "outputs": [
        {
          "output_type": "stream",
          "name": "stdout",
          "text": [
            "-------------Epoch 1-------------\n",
            "batch: [    9], loss: 0.700\n",
            "temporary loss: 0.709403 | [ 1800/ 9000]\n",
            "batch: [   18], loss: 0.690\n",
            "temporary loss: 0.682366 | [ 3600/ 9000]\n",
            "batch: [   27], loss: 0.689\n",
            "temporary loss: 0.685686 | [ 5400/ 9000]\n",
            "batch: [   36], loss: 0.685\n",
            "temporary loss: 0.691702 | [ 7200/ 9000]\n",
            "batch: [   45], loss: 0.681\n",
            "temporary loss: 0.686482 | [ 9000/ 9000]\n",
            "train set\n",
            "Test Error: \n",
            " Accuracy: 63.0%\n",
            "Avg loss: 0.675172 \n",
            "\n",
            "test set\n",
            "Test Error: \n",
            " Accuracy: 63.7%\n",
            "Avg loss: 0.673616 \n",
            "\n",
            "-------------Epoch 2-------------\n",
            "batch: [    9], loss: 0.682\n",
            "temporary loss: 0.675334 | [ 1800/ 9000]\n",
            "batch: [   18], loss: 0.676\n",
            "temporary loss: 0.687184 | [ 3600/ 9000]\n",
            "batch: [   27], loss: 0.662\n",
            "temporary loss: 0.657701 | [ 5400/ 9000]\n",
            "batch: [   36], loss: 0.657\n",
            "temporary loss: 0.644442 | [ 7200/ 9000]\n",
            "batch: [   45], loss: 0.654\n",
            "temporary loss: 0.656038 | [ 9000/ 9000]\n",
            "train set\n",
            "Test Error: \n",
            " Accuracy: 72.8%\n",
            "Avg loss: 0.611063 \n",
            "\n",
            "test set\n",
            "Test Error: \n",
            " Accuracy: 72.7%\n",
            "Avg loss: 0.609147 \n",
            "\n",
            "-------------Epoch 3-------------\n",
            "batch: [    9], loss: 0.636\n",
            "temporary loss: 0.640511 | [ 1800/ 9000]\n",
            "batch: [   18], loss: 0.620\n",
            "temporary loss: 0.602730 | [ 3600/ 9000]\n",
            "batch: [   27], loss: 0.617\n",
            "temporary loss: 0.578077 | [ 5400/ 9000]\n",
            "batch: [   36], loss: 0.597\n",
            "temporary loss: 0.616634 | [ 7200/ 9000]\n",
            "batch: [   45], loss: 0.573\n",
            "temporary loss: 0.523850 | [ 9000/ 9000]\n",
            "train set\n",
            "Test Error: \n",
            " Accuracy: 76.1%\n",
            "Avg loss: 0.510656 \n",
            "\n",
            "test set\n",
            "Test Error: \n",
            " Accuracy: 77.3%\n",
            "Avg loss: 0.504347 \n",
            "\n",
            "Done!\n",
            "Time Consumption 165.81883335113525\n"
          ]
        }
      ],
      "source": [
        "lr_list = [1e-5] * 3\n",
        "time_start = time.time()\n",
        "for t in range( len(lr_list) ):\n",
        "    print(f\"-------------Epoch {t+1}-------------\")\n",
        "    #optimizer = optim.SGD(model.parameters(), lr=lr_list[t], momentum=0.9)\n",
        "    optimizer = optim.Adam(model_swin_t.parameters(), lr=lr_list[t])\n",
        "    train_loop(train_loader, model_swin_t, criterion, optimizer)\n",
        "    print(\"train set\")\n",
        "    test_loop_Entropy(train_loader_not_aug, model_swin_t, criterion)\n",
        "    print(\"test set\")\n",
        "    test_loop_Entropy(test_loader, model_swin_t, criterion)\n",
        "print(\"Done!\")\n",
        "time_end = time.time()\n",
        "print(\"Time Consumption\",time_end-time_start)"
      ]
    }
  ]
}